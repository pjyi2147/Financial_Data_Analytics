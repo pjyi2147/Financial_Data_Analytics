{
 "cells": [
  {
   "attachments": {},
   "cell_type": "markdown",
   "metadata": {},
   "source": [
    "# CFM 301 Data Assignment 1 Q1\n",
    "\n",
    "Jeongseop Yi (j22yi / 20727267)"
   ]
  },
  {
   "cell_type": "code",
   "execution_count": 10,
   "metadata": {},
   "outputs": [],
   "source": [
    "import pandas as pd\n",
    "import math"
   ]
  },
  {
   "cell_type": "code",
   "execution_count": 11,
   "metadata": {},
   "outputs": [
    {
     "name": "stdout",
     "output_type": "stream",
     "text": [
      "mean: 0.02286\n",
      "SD: 0.13121\n"
     ]
    }
   ],
   "source": [
    "amzn = pd.read_csv(\"../csv/amazon.csv\")\n",
    "amzn.columns = map(str.lower, amzn.columns)\n",
    "\n",
    "amzn_mean = amzn[\"ret\"].mean()\n",
    "amzn_sd = amzn[\"ret\"].std()\n",
    "\n",
    "print(\"mean: \" + str(round(amzn_mean, 5)))\n",
    "print(\"SD: \" + str(round(amzn_sd, 5)))"
   ]
  },
  {
   "cell_type": "code",
   "execution_count": 4,
   "metadata": {},
   "outputs": [
    {
     "name": "stdout",
     "output_type": "stream",
     "text": [
      "annualized return: 0.27438\n",
      "volatility: 0.45453\n"
     ]
    }
   ],
   "source": [
    "amzn_annual_ret = amzn_mean * 12\n",
    "amzn_volatility = amzn_sd * math.sqrt(12)\n",
    "print('annualized return: ' + str(round(amzn_annual_ret, 5)))\n",
    "print('volatility: ' + str(round(amzn_volatility, 5)))"
   ]
  }
 ],
 "metadata": {
  "kernelspec": {
   "display_name": "Python 3",
   "language": "python",
   "name": "python3"
  },
  "language_info": {
   "codemirror_mode": {
    "name": "ipython",
    "version": 3
   },
   "file_extension": ".py",
   "mimetype": "text/x-python",
   "name": "python",
   "nbconvert_exporter": "python",
   "pygments_lexer": "ipython3",
   "version": "3.8.10 (default, Jun 22 2022, 20:18:18) \n[GCC 9.4.0]"
  },
  "orig_nbformat": 4,
  "vscode": {
   "interpreter": {
    "hash": "916dbcbb3f70747c44a77c7bcd40155683ae19c65e1c03b4aa3499c5328201f1"
   }
  }
 },
 "nbformat": 4,
 "nbformat_minor": 2
}
