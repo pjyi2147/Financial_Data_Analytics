{
 "cells": [
  {
   "attachments": {},
   "cell_type": "markdown",
   "metadata": {},
   "source": [
    "# CFM 301 Data Assignment 1 Q3a\n",
    "\n",
    "Jeongseop Yi (j22yi / 20727267)"
   ]
  },
  {
   "cell_type": "code",
   "execution_count": 5,
   "metadata": {},
   "outputs": [],
   "source": [
    "import pandas as pd\n",
    "import numpy as np\n",
    "from scipy import stats\n",
    "import matplotlib.pyplot as plt\n",
    "import seaborn as sns\n",
    "import math\n",
    "\n",
    "from sklearn import linear_model\n",
    "import statsmodels.api as sm"
   ]
  },
  {
   "cell_type": "code",
   "execution_count": 6,
   "metadata": {},
   "outputs": [],
   "source": [
    "amzn_data = pd.read_csv(\"../csv/amazon.csv\")\n",
    "amzn_data.columns = map(str.lower, amzn_data.columns)\n",
    "\n",
    "ff_factors = pd.read_csv(\"../csv/ff_factors.csv\")\n",
    "ff_factors.columns = map(str.lower, ff_factors.columns)\n",
    "\n",
    "ff_factors[\"dateff\"] = pd.to_datetime(ff_factors[\"dateff\"], format='%Y%m%d')\n",
    "ff_factors[\"yyyymm\"] = ff_factors.dateff.dt.year*100 + ff_factors.dateff.dt.month\n",
    "\n",
    "amzn_data[\"date\"] = pd.to_datetime(amzn_data[\"date\"], format='%Y%m%d')\n",
    "amzn_data[\"yyyymm\"] = amzn_data.date.dt.year*100 + amzn_data.date.dt.month\n",
    "\n",
    "ret_matrix = pd.merge(amzn_data, ff_factors, on='yyyymm')"
   ]
  },
  {
   "cell_type": "code",
   "execution_count": 7,
   "metadata": {},
   "outputs": [
    {
     "name": "stdout",
     "output_type": "stream",
     "text": [
      "const      0.015333\n",
      "xvwretd    1.532300\n",
      "smb       -0.238589\n",
      "hml       -1.260183\n",
      "dtype: float64\n",
      "R^2: 0.359\n"
     ]
    }
   ],
   "source": [
    "ret_matrix['xret'] = ret_matrix[\"ret\"] - ret_matrix['rf']\n",
    "ret_matrix['xvwretd'] = ret_matrix[\"vwretd\"] - ret_matrix['rf']\n",
    "explanatory_variates = ret_matrix[[\"xvwretd\", \"smb\", \"hml\"]]\n",
    "\n",
    "x = sm.add_constant(explanatory_variates)\n",
    "model = sm.OLS(ret_matrix['xret'], x).fit()\n",
    "\n",
    "print(model.params)\n",
    "print(\"R^2: \" + str(round(model.rsquared, 3)))"
   ]
  },
  {
   "cell_type": "code",
   "execution_count": 8,
   "metadata": {},
   "outputs": [],
   "source": [
    "with pd.ExcelWriter(\"../xlsx/CA1_data.xlsx\", mode='a', engine=\"openpyxl\", if_sheet_exists='replace') as writer:\n",
    "    ret_matrix.to_excel(writer, sheet_name=\"q3a\")"
   ]
  }
 ],
 "metadata": {
  "kernelspec": {
   "display_name": "Python 3",
   "language": "python",
   "name": "python3"
  },
  "language_info": {
   "codemirror_mode": {
    "name": "ipython",
    "version": 3
   },
   "file_extension": ".py",
   "mimetype": "text/x-python",
   "name": "python",
   "nbconvert_exporter": "python",
   "pygments_lexer": "ipython3",
   "version": "3.8.10 (default, Jun 22 2022, 20:18:18) \n[GCC 9.4.0]"
  },
  "orig_nbformat": 4,
  "vscode": {
   "interpreter": {
    "hash": "916dbcbb3f70747c44a77c7bcd40155683ae19c65e1c03b4aa3499c5328201f1"
   }
  }
 },
 "nbformat": 4,
 "nbformat_minor": 2
}
