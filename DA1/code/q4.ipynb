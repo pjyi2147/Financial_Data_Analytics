{
 "cells": [
  {
   "attachments": {},
   "cell_type": "markdown",
   "metadata": {},
   "source": [
    "# CFM 301 Data Assignment 1 Q4\n",
    "\n",
    "Jeongseop Yi (j22yi / 20727267)"
   ]
  },
  {
   "attachments": {},
   "cell_type": "markdown",
   "metadata": {},
   "source": [
    "### Q4a"
   ]
  },
  {
   "cell_type": "code",
   "execution_count": 141,
   "metadata": {},
   "outputs": [],
   "source": [
    "import pandas as pd\n",
    "from pandasql import sqldf\n",
    "import numpy as np\n",
    "from scipy import stats\n",
    "import matplotlib.pyplot as plt\n",
    "import seaborn as sns\n",
    "import math\n",
    "\n",
    "from sklearn import linear_model\n",
    "import statsmodels.api as sm"
   ]
  },
  {
   "cell_type": "code",
   "execution_count": 142,
   "metadata": {},
   "outputs": [],
   "source": [
    "data = pd.read_sas(\"../csv/q4a.sas7bdat\", encoding='latin-1')\n",
    "data.columns = map(str.lower, data.columns)\n",
    "\n",
    "data[\"date\"] = pd.to_datetime(data[\"date\"], format='%Y%m%d')\n",
    "data[\"yyyymm\"] = data.date.dt.year*100 + data.date.dt.month\n",
    "data[\"monthid\"] = (data.date.dt.year-2005)*12 + data.date.dt.month\n",
    "\n",
    "bhholding_data = pd.read_excel(\"../BHHoldings_202209.xlsx\", sheet_name=\"BH_cleaned_permno\")\n",
    "bhholding_data.columns = map(str.lower, bhholding_data.columns)"
   ]
  },
  {
   "cell_type": "code",
   "execution_count": 143,
   "metadata": {},
   "outputs": [
    {
     "name": "stdout",
     "output_type": "stream",
     "text": [
      "       permno       date ticker       ret    vwretd  yyyymm  monthid\n",
      "0     10933.0 2005-01-31    MKL -0.063187 -0.026546  200501        1\n",
      "1     10933.0 2005-02-28    MKL  0.048387  0.022646  200502        2\n",
      "2     10933.0 2005-03-31    MKL -0.034378 -0.016944  200503        3\n",
      "3     10933.0 2005-04-29    MKL -0.006112 -0.025206  200504        4\n",
      "4     10933.0 2005-05-31    MKL -0.003935  0.037954  200505        5\n",
      "...       ...        ...    ...       ...       ...     ...      ...\n",
      "7666  91937.0 2021-08-31   TMUS -0.048604  0.027147  202108      200\n",
      "7667  91937.0 2021-09-30   TMUS -0.067581 -0.042243  202109      201\n",
      "7668  91937.0 2021-10-29   TMUS -0.099640  0.064657  202110      202\n",
      "7669  91937.0 2021-11-30   TMUS -0.054073 -0.018347  202111      203\n",
      "7670  91937.0 2021-12-31   TMUS  0.065895  0.033345  202112      204\n",
      "\n",
      "[7671 rows x 7 columns]\n"
     ]
    }
   ],
   "source": [
    "print(data)\n",
    "data = pd.merge(data, bhholding_data, on=\"permno\", how='left')"
   ]
  },
  {
   "cell_type": "code",
   "execution_count": 144,
   "metadata": {},
   "outputs": [],
   "source": [
    "with pd.ExcelWriter(\"../xlsx/CA1_data.xlsx\", mode='a', engine=\"openpyxl\", if_sheet_exists='replace') as writer:\n",
    "    data.to_excel(writer, sheet_name='q4a')"
   ]
  },
  {
   "attachments": {},
   "cell_type": "markdown",
   "metadata": {},
   "source": [
    "### Q4b"
   ]
  },
  {
   "cell_type": "code",
   "execution_count": 145,
   "metadata": {},
   "outputs": [],
   "source": [
    "bh_mat = {'monthid':[], 'yyyymm':[], 'ret': []}\n",
    "\n",
    "for mid in range(1, max(data['monthid']) + 1):\n",
    "    month_data = pd.DataFrame(data.query('monthid == ' + str(mid)))\n",
    "    bh_mat['monthid'].append(mid)\n",
    "    bh_mat['yyyymm'].append(month_data['yyyymm'].iloc[0])\n",
    "\n",
    "    weight_sum = month_data['portfolio_weight'].sum()\n",
    "    month_data['weight_adj'] = month_data['portfolio_weight'].div(weight_sum).copy()\n",
    "    month_data['ret_adj'] = month_data.apply(lambda row: (row['ret'] * row['weight_adj']), axis=1)\n",
    "    bh_mat['ret'].append(month_data['ret_adj'].sum())\n",
    "\n",
    "bh_mat = pd.DataFrame(bh_mat)"
   ]
  },
  {
   "cell_type": "code",
   "execution_count": 146,
   "metadata": {},
   "outputs": [
    {
     "name": "stdout",
     "output_type": "stream",
     "text": [
      "     monthid  yyyymm       ret\n",
      "0          1  200501  0.074492\n",
      "1          2  200502  0.098175\n",
      "2          3  200503 -0.051562\n",
      "3          4  200504 -0.063052\n",
      "4          5  200505  0.069344\n",
      "..       ...     ...       ...\n",
      "199      200  202108  0.022521\n",
      "200      201  202109 -0.025439\n",
      "201      202  202110  0.068779\n",
      "202      203  202111  0.005195\n",
      "203      204  202112  0.059671\n",
      "\n",
      "[204 rows x 3 columns]\n",
      "0.06100240898981602\n"
     ]
    }
   ],
   "source": [
    "print(bh_mat)\n",
    "print(bh_mat[\"ret\"].std())"
   ]
  },
  {
   "cell_type": "code",
   "execution_count": 147,
   "metadata": {},
   "outputs": [],
   "source": [
    "with pd.ExcelWriter(\"../xlsx/CA1_data.xlsx\", mode='a', engine=\"openpyxl\", if_sheet_exists='replace') as writer:\n",
    "    bh_mat.to_excel(writer, sheet_name=\"q4b\")"
   ]
  },
  {
   "attachments": {},
   "cell_type": "markdown",
   "metadata": {},
   "source": [
    "### Q4c"
   ]
  },
  {
   "cell_type": "code",
   "execution_count": 148,
   "metadata": {},
   "outputs": [],
   "source": [
    "ff_factor = pd.read_csv(\"../csv/ff_factors.csv\")\n",
    "ff_factor.columns = map(str.lower, ff_factor.columns)\n",
    "\n",
    "ff_factor['dateff'] = ff_factor[\"dateff\"] = pd.to_datetime(ff_factor[\"dateff\"], format='%Y%m%d')\n",
    "ff_factor['yyyymm'] = ff_factor[\"yyyymm\"] = ff_factor.dateff.dt.year*100 + ff_factor.dateff.dt.month\n",
    "\n",
    "bh_mat = pd.merge(bh_mat, ff_factor, on=\"yyyymm\", how='left')"
   ]
  },
  {
   "cell_type": "code",
   "execution_count": 149,
   "metadata": {},
   "outputs": [
    {
     "data": {
      "text/plain": [
       "const    0.007068\n",
       "mktrf    1.187101\n",
       "dtype: float64"
      ]
     },
     "execution_count": 149,
     "metadata": {},
     "output_type": "execute_result"
    }
   ],
   "source": [
    "bh_mat['xret'] = bh_mat['ret'] - bh_mat['rf']\n",
    "\n",
    "x = sm.add_constant(bh_mat['mktrf'])\n",
    "model = sm.OLS(bh_mat['xret'], x).fit()\n",
    "\n",
    "model.params"
   ]
  },
  {
   "cell_type": "code",
   "execution_count": 150,
   "metadata": {},
   "outputs": [
    {
     "data": {
      "text/plain": [
       "const    0.006905\n",
       "mktrf    1.227393\n",
       "smb     -0.224855\n",
       "hml      0.023264\n",
       "dtype: float64"
      ]
     },
     "execution_count": 150,
     "metadata": {},
     "output_type": "execute_result"
    }
   ],
   "source": [
    "explanatory_variates = bh_mat[[\"mktrf\", \"smb\", \"hml\"]]\n",
    "\n",
    "k = sm.add_constant(explanatory_variates)\n",
    "model = sm.OLS(bh_mat['xret'], k).fit()\n",
    "\n",
    "model.params"
   ]
  }
 ],
 "metadata": {
  "kernelspec": {
   "display_name": "Python 3",
   "language": "python",
   "name": "python3"
  },
  "language_info": {
   "codemirror_mode": {
    "name": "ipython",
    "version": 3
   },
   "file_extension": ".py",
   "mimetype": "text/x-python",
   "name": "python",
   "nbconvert_exporter": "python",
   "pygments_lexer": "ipython3",
   "version": "3.8.10"
  },
  "orig_nbformat": 4,
  "vscode": {
   "interpreter": {
    "hash": "916dbcbb3f70747c44a77c7bcd40155683ae19c65e1c03b4aa3499c5328201f1"
   }
  }
 },
 "nbformat": 4,
 "nbformat_minor": 2
}
