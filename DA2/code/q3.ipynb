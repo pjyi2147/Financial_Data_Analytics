{
 "cells": [
  {
   "attachments": {},
   "cell_type": "markdown",
   "metadata": {},
   "source": [
    "# CFM 301 Data Assignment 2 \n",
    "## Q3\n",
    "### Jeongseop Yi (Patrick), j22yi"
   ]
  },
  {
   "cell_type": "code",
   "execution_count": 1,
   "metadata": {},
   "outputs": [],
   "source": [
    "# get data from downloaded files\n",
    "import pandas as pd\n",
    "from pandasql import sqldf\n",
    "import numpy as np\n",
    "import matplotlib.pyplot as plt\n",
    "import seaborn as sns"
   ]
  },
  {
   "cell_type": "code",
   "execution_count": 2,
   "metadata": {},
   "outputs": [
    {
     "data": {
      "text/plain": [
       "PERMNO     22819\n",
       "DATE       22819\n",
       "CUSIP      22819\n",
       "COMNAM     22773\n",
       "TICKER     22773\n",
       "PRC        22769\n",
       "RET        22721\n",
       "RETX       22721\n",
       "SHROUT     22773\n",
       "VWRETD     22819\n",
       "SPRTRN     22819\n",
       "MONTHID    22819\n",
       "dtype: int64"
      ]
     },
     "metadata": {},
     "output_type": "display_data"
    }
   ],
   "source": [
    "# read q1 data \n",
    "q1_data = pd.read_sas('../q1.sas7bdat', encoding='latin-1')\n",
    "q1_data.columns = map(str.upper, q1_data.columns)\n",
    "q1_data['DATE'] = pd.to_datetime(q1_data['DATE'], format='%Y%m%d')\n",
    "q1_data['MONTHID'] = (q1_data['DATE'].dt.year - 2000) * 12 + q1_data['DATE'].dt.month\n",
    "display(q1_data.count())\n",
    "\n",
    "# read q2 data\n",
    "q2_data = pd.read_sas('../q2.sas7bdat', encoding='latin-1')\n",
    "q2_data.columns = map(str.upper, q2_data.columns)\n",
    "q2_data['DATE'] = pd.to_datetime(q2_data['DATADATE'], format='%Y%m%d')\n",
    "q2_data['MONTHID2'] = (q2_data['DATE'].dt.year - 2000) * 12 + q2_data['DATE'].dt.month\n",
    "\n",
    "# read permno and gvkey data\n",
    "permno_gvkey = pd.read_excel('../downloads/nasdaq100_pop.xlsx', sheet_name='all', dtype={'GVKEY': str})\n",
    "permno_gvkey.columns = map(str.upper, permno_gvkey.columns)"
   ]
  },
  {
   "cell_type": "code",
   "execution_count": 3,
   "metadata": {},
   "outputs": [],
   "source": [
    "# There exist negative prices, so we take the absolute value\n",
    "# It is not an error but a notation from CRSP\n",
    "# When no closing price is available, the price is flagged as negative\n",
    "q1_data['PRC'] = abs(q1_data['PRC'])\n",
    "q1_data = pd.merge(q1_data, permno_gvkey[['PERMNO', 'GVKEY']], on='PERMNO', how='left')"
   ]
  },
  {
   "cell_type": "code",
   "execution_count": 4,
   "metadata": {},
   "outputs": [],
   "source": [
    "merged_data = sqldf(\"SELECT a.*, b.* \\\n",
    "                     FROM q1_data as a \\\n",
    "                     LEFT JOIN q2_data as b \\\n",
    "                     ON a.GVKEY = b.GVKEY and a.MONTHID >= b.MONTHID2 + 4 and a.MONTHID <= b.MONTHID2 + 6\")\n",
    "\n",
    "# keep data from 2000 to 2021\n",
    "merged_data = merged_data[merged_data['MONTHID'] >= 1]"
   ]
  },
  {
   "cell_type": "code",
   "execution_count": 5,
   "metadata": {},
   "outputs": [
    {
     "ename": "KeyboardInterrupt",
     "evalue": "",
     "output_type": "error",
     "traceback": [
      "\u001b[0;31m---------------------------------------------------------------------------\u001b[0m",
      "\u001b[0;31mKeyboardInterrupt\u001b[0m                         Traceback (most recent call last)",
      "Cell \u001b[0;32mIn[5], line 2\u001b[0m\n\u001b[1;32m      1\u001b[0m \u001b[39m# save data to xlsx\u001b[39;00m\n\u001b[0;32m----> 2\u001b[0m \u001b[39mwith\u001b[39;00m pd\u001b[39m.\u001b[39;49mExcelWriter(\u001b[39m\"\u001b[39;49m\u001b[39m../DA2_data.xlsx\u001b[39;49m\u001b[39m\"\u001b[39;49m, mode\u001b[39m=\u001b[39;49m\u001b[39m'\u001b[39;49m\u001b[39ma\u001b[39;49m\u001b[39m'\u001b[39;49m, engine\u001b[39m=\u001b[39;49m\u001b[39m\"\u001b[39;49m\u001b[39mopenpyxl\u001b[39;49m\u001b[39m\"\u001b[39;49m, if_sheet_exists\u001b[39m=\u001b[39;49m\u001b[39m'\u001b[39;49m\u001b[39mreplace\u001b[39;49m\u001b[39m'\u001b[39;49m) \u001b[39mas\u001b[39;00m writer:\n\u001b[1;32m      3\u001b[0m     merged_data\u001b[39m.\u001b[39mto_excel(writer, sheet_name\u001b[39m=\u001b[39m\u001b[39m\"\u001b[39m\u001b[39mq3\u001b[39m\u001b[39m\"\u001b[39m, index\u001b[39m=\u001b[39m\u001b[39mFalse\u001b[39;00m)\n",
      "File \u001b[0;32m~/.local/lib/python3.10/site-packages/pandas/io/excel/_openpyxl.py:73\u001b[0m, in \u001b[0;36mOpenpyxlWriter.__init__\u001b[0;34m(self, path, engine, date_format, datetime_format, mode, storage_options, if_sheet_exists, engine_kwargs, **kwargs)\u001b[0m\n\u001b[1;32m     70\u001b[0m \u001b[39mif\u001b[39;00m \u001b[39m\"\u001b[39m\u001b[39mr+\u001b[39m\u001b[39m\"\u001b[39m \u001b[39min\u001b[39;00m \u001b[39mself\u001b[39m\u001b[39m.\u001b[39m_mode:  \u001b[39m# Load from existing workbook\u001b[39;00m\n\u001b[1;32m     71\u001b[0m     \u001b[39mfrom\u001b[39;00m \u001b[39mopenpyxl\u001b[39;00m \u001b[39mimport\u001b[39;00m load_workbook\n\u001b[0;32m---> 73\u001b[0m     \u001b[39mself\u001b[39m\u001b[39m.\u001b[39m_book \u001b[39m=\u001b[39m load_workbook(\u001b[39mself\u001b[39;49m\u001b[39m.\u001b[39;49m_handles\u001b[39m.\u001b[39;49mhandle, \u001b[39m*\u001b[39;49m\u001b[39m*\u001b[39;49mengine_kwargs)\n\u001b[1;32m     74\u001b[0m     \u001b[39mself\u001b[39m\u001b[39m.\u001b[39m_handles\u001b[39m.\u001b[39mhandle\u001b[39m.\u001b[39mseek(\u001b[39m0\u001b[39m)\n\u001b[1;32m     75\u001b[0m \u001b[39melse\u001b[39;00m:\n\u001b[1;32m     76\u001b[0m     \u001b[39m# Create workbook object with default optimized_write=True.\u001b[39;00m\n",
      "File \u001b[0;32m~/.local/lib/python3.10/site-packages/openpyxl/reader/excel.py:317\u001b[0m, in \u001b[0;36mload_workbook\u001b[0;34m(filename, read_only, keep_vba, data_only, keep_links)\u001b[0m\n\u001b[1;32m    290\u001b[0m \u001b[39m\u001b[39m\u001b[39m\"\"\"Open the given filename and return the workbook\u001b[39;00m\n\u001b[1;32m    291\u001b[0m \n\u001b[1;32m    292\u001b[0m \u001b[39m:param filename: the path to open or a file-like object\u001b[39;00m\n\u001b[0;32m   (...)\u001b[0m\n\u001b[1;32m    313\u001b[0m \n\u001b[1;32m    314\u001b[0m \u001b[39m\"\"\"\u001b[39;00m\n\u001b[1;32m    315\u001b[0m reader \u001b[39m=\u001b[39m ExcelReader(filename, read_only, keep_vba,\n\u001b[1;32m    316\u001b[0m                     data_only, keep_links)\n\u001b[0;32m--> 317\u001b[0m reader\u001b[39m.\u001b[39;49mread()\n\u001b[1;32m    318\u001b[0m \u001b[39mreturn\u001b[39;00m reader\u001b[39m.\u001b[39mwb\n",
      "File \u001b[0;32m~/.local/lib/python3.10/site-packages/openpyxl/reader/excel.py:282\u001b[0m, in \u001b[0;36mExcelReader.read\u001b[0;34m(self)\u001b[0m\n\u001b[1;32m    280\u001b[0m \u001b[39mself\u001b[39m\u001b[39m.\u001b[39mread_theme()\n\u001b[1;32m    281\u001b[0m apply_stylesheet(\u001b[39mself\u001b[39m\u001b[39m.\u001b[39marchive, \u001b[39mself\u001b[39m\u001b[39m.\u001b[39mwb)\n\u001b[0;32m--> 282\u001b[0m \u001b[39mself\u001b[39;49m\u001b[39m.\u001b[39;49mread_worksheets()\n\u001b[1;32m    283\u001b[0m \u001b[39mself\u001b[39m\u001b[39m.\u001b[39mparser\u001b[39m.\u001b[39massign_names()\n\u001b[1;32m    284\u001b[0m \u001b[39mif\u001b[39;00m \u001b[39mnot\u001b[39;00m \u001b[39mself\u001b[39m\u001b[39m.\u001b[39mread_only:\n",
      "File \u001b[0;32m~/.local/lib/python3.10/site-packages/openpyxl/reader/excel.py:228\u001b[0m, in \u001b[0;36mExcelReader.read_worksheets\u001b[0;34m(self)\u001b[0m\n\u001b[1;32m    226\u001b[0m     ws\u001b[39m.\u001b[39m_rels \u001b[39m=\u001b[39m rels\n\u001b[1;32m    227\u001b[0m     ws_parser \u001b[39m=\u001b[39m WorksheetReader(ws, fh, \u001b[39mself\u001b[39m\u001b[39m.\u001b[39mshared_strings, \u001b[39mself\u001b[39m\u001b[39m.\u001b[39mdata_only)\n\u001b[0;32m--> 228\u001b[0m     ws_parser\u001b[39m.\u001b[39;49mbind_all()\n\u001b[1;32m    230\u001b[0m \u001b[39m# assign any comments to cells\u001b[39;00m\n\u001b[1;32m    231\u001b[0m \u001b[39mfor\u001b[39;00m r \u001b[39min\u001b[39;00m rels\u001b[39m.\u001b[39mfind(COMMENTS_NS):\n",
      "File \u001b[0;32m~/.local/lib/python3.10/site-packages/openpyxl/worksheet/_reader.py:448\u001b[0m, in \u001b[0;36mWorksheetReader.bind_all\u001b[0;34m(self)\u001b[0m\n\u001b[1;32m    447\u001b[0m \u001b[39mdef\u001b[39;00m \u001b[39mbind_all\u001b[39m(\u001b[39mself\u001b[39m):\n\u001b[0;32m--> 448\u001b[0m     \u001b[39mself\u001b[39;49m\u001b[39m.\u001b[39;49mbind_cells()\n\u001b[1;32m    449\u001b[0m     \u001b[39mself\u001b[39m\u001b[39m.\u001b[39mbind_merged_cells()\n\u001b[1;32m    450\u001b[0m     \u001b[39mself\u001b[39m\u001b[39m.\u001b[39mbind_hyperlinks()\n",
      "File \u001b[0;32m~/.local/lib/python3.10/site-packages/openpyxl/worksheet/_reader.py:351\u001b[0m, in \u001b[0;36mWorksheetReader.bind_cells\u001b[0;34m(self)\u001b[0m\n\u001b[1;32m    350\u001b[0m \u001b[39mdef\u001b[39;00m \u001b[39mbind_cells\u001b[39m(\u001b[39mself\u001b[39m):\n\u001b[0;32m--> 351\u001b[0m     \u001b[39mfor\u001b[39;00m idx, row \u001b[39min\u001b[39;00m \u001b[39mself\u001b[39m\u001b[39m.\u001b[39mparser\u001b[39m.\u001b[39mparse():\n\u001b[1;32m    352\u001b[0m         \u001b[39mfor\u001b[39;00m cell \u001b[39min\u001b[39;00m row:\n\u001b[1;32m    353\u001b[0m             style \u001b[39m=\u001b[39m \u001b[39mself\u001b[39m\u001b[39m.\u001b[39mws\u001b[39m.\u001b[39mparent\u001b[39m.\u001b[39m_cell_styles[cell[\u001b[39m'\u001b[39m\u001b[39mstyle_id\u001b[39m\u001b[39m'\u001b[39m]]\n",
      "File \u001b[0;32m~/.local/lib/python3.10/site-packages/openpyxl/worksheet/_reader.py:144\u001b[0m, in \u001b[0;36mWorkSheetParser.parse\u001b[0;34m(self)\u001b[0m\n\u001b[1;32m    125\u001b[0m properties \u001b[39m=\u001b[39m {\n\u001b[1;32m    126\u001b[0m     PRINT_TAG: (\u001b[39m'\u001b[39m\u001b[39mprint_options\u001b[39m\u001b[39m'\u001b[39m, PrintOptions),\n\u001b[1;32m    127\u001b[0m     MARGINS_TAG: (\u001b[39m'\u001b[39m\u001b[39mpage_margins\u001b[39m\u001b[39m'\u001b[39m, PageMargins),\n\u001b[0;32m   (...)\u001b[0m\n\u001b[1;32m    139\u001b[0m \n\u001b[1;32m    140\u001b[0m }\n\u001b[1;32m    142\u001b[0m it \u001b[39m=\u001b[39m iterparse(\u001b[39mself\u001b[39m\u001b[39m.\u001b[39msource) \u001b[39m# add a finaliser to close the source when this becomes possible\u001b[39;00m\n\u001b[0;32m--> 144\u001b[0m \u001b[39mfor\u001b[39;00m _, element \u001b[39min\u001b[39;00m it:\n\u001b[1;32m    145\u001b[0m     tag_name \u001b[39m=\u001b[39m element\u001b[39m.\u001b[39mtag\n\u001b[1;32m    146\u001b[0m     \u001b[39mif\u001b[39;00m tag_name \u001b[39min\u001b[39;00m dispatcher:\n",
      "File \u001b[0;32m/usr/lib/python3.10/xml/etree/ElementTree.py:1258\u001b[0m, in \u001b[0;36miterparse.<locals>.iterator\u001b[0;34m(source)\u001b[0m\n\u001b[1;32m   1256\u001b[0m     \u001b[39mif\u001b[39;00m \u001b[39mnot\u001b[39;00m data:\n\u001b[1;32m   1257\u001b[0m         \u001b[39mbreak\u001b[39;00m\n\u001b[0;32m-> 1258\u001b[0m     pullparser\u001b[39m.\u001b[39;49mfeed(data)\n\u001b[1;32m   1259\u001b[0m root \u001b[39m=\u001b[39m pullparser\u001b[39m.\u001b[39m_close_and_return_root()\n\u001b[1;32m   1260\u001b[0m \u001b[39myield from\u001b[39;00m pullparser\u001b[39m.\u001b[39mread_events()\n",
      "File \u001b[0;32m/usr/lib/python3.10/xml/etree/ElementTree.py:1296\u001b[0m, in \u001b[0;36mXMLPullParser.feed\u001b[0;34m(self, data)\u001b[0m\n\u001b[1;32m   1294\u001b[0m \u001b[39mif\u001b[39;00m data:\n\u001b[1;32m   1295\u001b[0m     \u001b[39mtry\u001b[39;00m:\n\u001b[0;32m-> 1296\u001b[0m         \u001b[39mself\u001b[39;49m\u001b[39m.\u001b[39;49m_parser\u001b[39m.\u001b[39;49mfeed(data)\n\u001b[1;32m   1297\u001b[0m     \u001b[39mexcept\u001b[39;00m \u001b[39mSyntaxError\u001b[39;00m \u001b[39mas\u001b[39;00m exc:\n\u001b[1;32m   1298\u001b[0m         \u001b[39mself\u001b[39m\u001b[39m.\u001b[39m_events_queue\u001b[39m.\u001b[39mappend(exc)\n",
      "\u001b[0;31mKeyboardInterrupt\u001b[0m: "
     ]
    }
   ],
   "source": [
    "# save data to xlsx\n",
    "with pd.ExcelWriter(\"../DA2_data.xlsx\", mode='a', engine=\"openpyxl\", if_sheet_exists='replace') as writer:\n",
    "    merged_data.to_excel(writer, sheet_name=\"q3\", index=False)"
   ]
  }
 ],
 "metadata": {
  "kernelspec": {
   "display_name": "Python 3",
   "language": "python",
   "name": "python3"
  },
  "language_info": {
   "codemirror_mode": {
    "name": "ipython",
    "version": 3
   },
   "file_extension": ".py",
   "mimetype": "text/x-python",
   "name": "python",
   "nbconvert_exporter": "python",
   "pygments_lexer": "ipython3",
   "version": "3.10.9"
  },
  "orig_nbformat": 4,
  "vscode": {
   "interpreter": {
    "hash": "e7370f93d1d0cde622a1f8e1c04877d8463912d04d973331ad4851f04de6915a"
   }
  }
 },
 "nbformat": 4,
 "nbformat_minor": 2
}
