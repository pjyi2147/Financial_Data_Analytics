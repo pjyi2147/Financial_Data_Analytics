{
 "cells": [
  {
   "attachments": {},
   "cell_type": "markdown",
   "metadata": {},
   "source": [
    "## CFM DA2 Q5\n",
    "### Jeongseop Yi (Patrick), j22yi"
   ]
  },
  {
   "cell_type": "code",
   "execution_count": 42,
   "metadata": {},
   "outputs": [],
   "source": [
    "import pandas as pd\n",
    "import numpy as np\n",
    "import matplotlib.pyplot as plt\n",
    "import seaborn as sns"
   ]
  },
  {
   "cell_type": "code",
   "execution_count": 43,
   "metadata": {},
   "outputs": [],
   "source": [
    "# Load the data from DA2.xlsx\n",
    "q4_data = pd.read_excel('../DA2_data.xlsx', sheet_name='q4')"
   ]
  },
  {
   "attachments": {},
   "cell_type": "markdown",
   "metadata": {},
   "source": [
    "##### All in one"
   ]
  },
  {
   "cell_type": "code",
   "execution_count": 48,
   "metadata": {},
   "outputs": [
    {
     "data": {
      "text/html": [
       "<div>\n",
       "<style scoped>\n",
       "    .dataframe tbody tr th:only-of-type {\n",
       "        vertical-align: middle;\n",
       "    }\n",
       "\n",
       "    .dataframe tbody tr th {\n",
       "        vertical-align: top;\n",
       "    }\n",
       "\n",
       "    .dataframe thead th {\n",
       "        text-align: right;\n",
       "    }\n",
       "</style>\n",
       "<table border=\"1\" class=\"dataframe\">\n",
       "  <thead>\n",
       "    <tr style=\"text-align: right;\">\n",
       "      <th></th>\n",
       "      <th>Name</th>\n",
       "      <th>Mean</th>\n",
       "      <th>Median</th>\n",
       "      <th>Variance</th>\n",
       "      <th>Standard Deviation</th>\n",
       "      <th>5% Quantile</th>\n",
       "      <th>25% Quantile</th>\n",
       "      <th>50% Quantile</th>\n",
       "      <th>75% Quantile</th>\n",
       "      <th>95% Quantile</th>\n",
       "    </tr>\n",
       "  </thead>\n",
       "  <tbody>\n",
       "    <tr>\n",
       "      <th>0</th>\n",
       "      <td>lnSize</td>\n",
       "      <td>23.479199</td>\n",
       "      <td>23.542461</td>\n",
       "      <td>2.509247</td>\n",
       "      <td>1.584060</td>\n",
       "      <td>20.769216</td>\n",
       "      <td>22.535723</td>\n",
       "      <td>23.542461</td>\n",
       "      <td>24.488655</td>\n",
       "      <td>25.883248</td>\n",
       "    </tr>\n",
       "    <tr>\n",
       "      <th>1</th>\n",
       "      <td>bk2mkt</td>\n",
       "      <td>0.269455</td>\n",
       "      <td>0.201929</td>\n",
       "      <td>0.106046</td>\n",
       "      <td>0.325647</td>\n",
       "      <td>0.020617</td>\n",
       "      <td>0.100447</td>\n",
       "      <td>0.201929</td>\n",
       "      <td>0.344283</td>\n",
       "      <td>0.740156</td>\n",
       "    </tr>\n",
       "    <tr>\n",
       "      <th>2</th>\n",
       "      <td>eP</td>\n",
       "      <td>0.003446</td>\n",
       "      <td>0.008589</td>\n",
       "      <td>0.013715</td>\n",
       "      <td>0.117111</td>\n",
       "      <td>-0.019800</td>\n",
       "      <td>0.003283</td>\n",
       "      <td>0.008589</td>\n",
       "      <td>0.013616</td>\n",
       "      <td>0.026432</td>\n",
       "    </tr>\n",
       "  </tbody>\n",
       "</table>\n",
       "</div>"
      ],
      "text/plain": [
       "     Name       Mean     Median  Variance  Standard Deviation  5% Quantile  \\\n",
       "0  lnSize  23.479199  23.542461  2.509247            1.584060    20.769216   \n",
       "1  bk2mkt   0.269455   0.201929  0.106046            0.325647     0.020617   \n",
       "2      eP   0.003446   0.008589  0.013715            0.117111    -0.019800   \n",
       "\n",
       "   25% Quantile  50% Quantile  75% Quantile  95% Quantile  \n",
       "0     22.535723     23.542461     24.488655     25.883248  \n",
       "1      0.100447      0.201929      0.344283      0.740156  \n",
       "2      0.003283      0.008589      0.013616      0.026432  "
      ]
     },
     "metadata": {},
     "output_type": "display_data"
    }
   ],
   "source": [
    "q5_data = {'Name': [], 'Mean': [], 'Median': [], 'Variance': [], 'Standard Deviation': [], '5% Quantile': [], '25% Quantile': [], '50% Quantile': [], '75% Quantile': [], '95% Quantile': []}\n",
    "q5_cols = ['lnSize', 'bk2mkt', 'eP']\n",
    "\n",
    "for cols in q5_cols:\n",
    "    q5_data['Name'].append(cols)\n",
    "    q5_data['Mean'].append(q4_data[cols].mean())\n",
    "    q5_data['Median'].append(q4_data[cols].median())\n",
    "    q5_data['Variance'].append(q4_data[cols].var())\n",
    "    q5_data['Standard Deviation'].append(q4_data[cols].std())\n",
    "    q5_data['5% Quantile'].append(q4_data[cols].quantile(0.05))\n",
    "    q5_data['25% Quantile'].append(q4_data[cols].quantile(0.25))\n",
    "    q5_data['50% Quantile'].append(q4_data[cols].quantile(0.50))\n",
    "    q5_data['75% Quantile'].append(q4_data[cols].quantile(0.75))\n",
    "    q5_data['95% Quantile'].append(q4_data[cols].quantile(0.95))\n",
    "\n",
    "q5_data = pd.DataFrame(q5_data)\n",
    "display(q5_data)"
   ]
  },
  {
   "attachments": {},
   "cell_type": "markdown",
   "metadata": {},
   "source": [
    "#### a) Mean and median"
   ]
  },
  {
   "cell_type": "code",
   "execution_count": 45,
   "metadata": {},
   "outputs": [
    {
     "name": "stdout",
     "output_type": "stream",
     "text": [
      "mean of lnSize: 23.4792\n",
      "median of lnSize: 23.54246\n",
      "\n",
      "mean of bk2mkt: 0.26946\n",
      "median of bk2mkt: 0.20193\n",
      "\n",
      "mean of eP: 0.00345\n",
      "median of eP: 0.00859\n"
     ]
    }
   ],
   "source": [
    "# Mean and median of lnSize\n",
    "print(\"mean of lnSize: \" + str(q4_data['lnSize'].mean().round(5)))\n",
    "print(\"median of lnSize: \" + str(q4_data['lnSize'].median().round(5)))\n",
    "print()\n",
    "\n",
    "# Mean and median of bk2mkt\n",
    "print(\"mean of bk2mkt: \" + str(q4_data['bk2mkt'].mean().round(5)))\n",
    "print(\"median of bk2mkt: \" + str(q4_data['bk2mkt'].median().round(5)))\n",
    "print()\n",
    "\n",
    "# Mean and median of eP\n",
    "print(\"mean of eP: \" + str(q4_data['eP'].mean().round(5)))\n",
    "print(\"median of eP: \" + str(q4_data['eP'].median().round(5)))"
   ]
  },
  {
   "attachments": {},
   "cell_type": "markdown",
   "metadata": {},
   "source": [
    "#### b) Variance and Standard deviation"
   ]
  },
  {
   "cell_type": "code",
   "execution_count": 46,
   "metadata": {},
   "outputs": [
    {
     "name": "stdout",
     "output_type": "stream",
     "text": [
      "Variance of lnSize: 2.50925\n",
      "Standard deviation of lnSize: 1.58406\n",
      "\n",
      "Variance of bk2mkt: 0.10605\n",
      "Standard deviation of bk2mkt: 0.32565\n",
      "\n",
      "Variance of eP: 0.01371\n",
      "Standard deviation of eP: 0.11711\n"
     ]
    }
   ],
   "source": [
    "# Variance and standard deviation of lnSize\n",
    "print(\"Variance of lnSize: \" + str(q4_data['lnSize'].var().round(5)))\n",
    "print(\"Standard deviation of lnSize: \" + str(q4_data['lnSize'].std().round(5)))\n",
    "print()\n",
    "\n",
    "# Variance and standard deviation of bk2mkt\n",
    "print(\"Variance of bk2mkt: \" + str(q4_data['bk2mkt'].var().round(5)))\n",
    "print(\"Standard deviation of bk2mkt: \" + str(q4_data['bk2mkt'].std().round(5)))\n",
    "print()\n",
    "\n",
    "# Variance and standard deviation of eP\n",
    "print(\"Variance of eP: \" + str(q4_data['eP'].var().round(5)))\n",
    "print(\"Standard deviation of eP: \" + str(q4_data['eP'].std().round(5)))"
   ]
  },
  {
   "attachments": {},
   "cell_type": "markdown",
   "metadata": {},
   "source": [
    "#### c) measure of distribution or shape: 5%, 25%, 50%, 75%, and 95% percentile"
   ]
  },
  {
   "cell_type": "code",
   "execution_count": 47,
   "metadata": {},
   "outputs": [
    {
     "name": "stdout",
     "output_type": "stream",
     "text": [
      "5% percentile of lnSize: 20.76922\n",
      "25% percentile of lnSize: 22.53572\n",
      "50% percentile of lnSize: 23.54246\n",
      "75% percentile of lnSize: 24.48866\n",
      "95% percentile of lnSize: 25.88325\n",
      "\n",
      "5% percentile of bk2mkt: 0.02062\n",
      "25% percentile of bk2mkt: 0.10045\n",
      "50% percentile of bk2mkt: 0.20193\n",
      "75% percentile of bk2mkt: 0.34428\n",
      "95% percentile of bk2mkt: 0.74016\n",
      "\n",
      "5% percentile of eP: -0.0198\n",
      "25% percentile of eP: 0.00328\n",
      "50% percentile of eP: 0.00859\n",
      "75% percentile of eP: 0.01362\n",
      "95% percentile of eP: 0.02643\n"
     ]
    }
   ],
   "source": [
    "# 5%, 25%, 50%, 75%, and 95% percentile of lnSize\n",
    "print(\"5% percentile of lnSize: \" + str(q4_data['lnSize'].quantile(0.05).round(5)))\n",
    "print(\"25% percentile of lnSize: \" + str(q4_data['lnSize'].quantile(0.25).round(5)))\n",
    "print(\"50% percentile of lnSize: \" + str(q4_data['lnSize'].quantile(0.5).round(5)))\n",
    "print(\"75% percentile of lnSize: \" + str(q4_data['lnSize'].quantile(0.75).round(5)))\n",
    "print(\"95% percentile of lnSize: \" + str(q4_data['lnSize'].quantile(0.95).round(5)))\n",
    "print()\n",
    "\n",
    "# 5%, 25%, 50%, 75%, and 95% percentile of bk2mkt\n",
    "print(\"5% percentile of bk2mkt: \" + str(q4_data['bk2mkt'].quantile(0.05).round(5)))\n",
    "print(\"25% percentile of bk2mkt: \" + str(q4_data['bk2mkt'].quantile(0.25).round(5)))\n",
    "print(\"50% percentile of bk2mkt: \" + str(q4_data['bk2mkt'].quantile(0.5).round(5)))\n",
    "print(\"75% percentile of bk2mkt: \" + str(q4_data['bk2mkt'].quantile(0.75).round(5)))\n",
    "print(\"95% percentile of bk2mkt: \" + str(q4_data['bk2mkt'].quantile(0.95).round(5)))\n",
    "print()\n",
    "\n",
    "# 5%, 25%, 50%, 75%, and 95% percentile of eP\n",
    "print(\"5% percentile of eP: \" + str(q4_data['eP'].quantile(0.05).round(5)))\n",
    "print(\"25% percentile of eP: \" + str(q4_data['eP'].quantile(0.25).round(5)))\n",
    "print(\"50% percentile of eP: \" + str(q4_data['eP'].quantile(0.5).round(5)))\n",
    "print(\"75% percentile of eP: \" + str(q4_data['eP'].quantile(0.75).round(5)))\n",
    "print(\"95% percentile of eP: \" + str(q4_data['eP'].quantile(0.95).round(5)))"
   ]
  }
 ],
 "metadata": {
  "kernelspec": {
   "display_name": "Python 3",
   "language": "python",
   "name": "python3"
  },
  "language_info": {
   "codemirror_mode": {
    "name": "ipython",
    "version": 3
   },
   "file_extension": ".py",
   "mimetype": "text/x-python",
   "name": "python",
   "nbconvert_exporter": "python",
   "pygments_lexer": "ipython3",
   "version": "3.10.9"
  },
  "orig_nbformat": 4,
  "vscode": {
   "interpreter": {
    "hash": "e7370f93d1d0cde622a1f8e1c04877d8463912d04d973331ad4851f04de6915a"
   }
  }
 },
 "nbformat": 4,
 "nbformat_minor": 2
}
