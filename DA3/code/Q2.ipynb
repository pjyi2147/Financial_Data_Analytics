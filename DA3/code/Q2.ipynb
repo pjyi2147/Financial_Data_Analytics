{
 "cells": [
  {
   "attachments": {},
   "cell_type": "markdown",
   "metadata": {},
   "source": [
    "### CFM 301 Data Assignment 3 Q2\n",
    "#### Jeongseop Yi (j22yi)"
   ]
  },
  {
   "cell_type": "code",
   "execution_count": 1,
   "metadata": {},
   "outputs": [],
   "source": [
    "import pandas as pd\n",
    "import numpy as np\n",
    "import matplotlib.pyplot as plt\n",
    "import seaborn as sns\n",
    "import statsmodels.api as sm\n",
    "from statsmodels.formula.api import ols\n",
    "from statsmodels.regression.rolling import RollingOLS"
   ]
  },
  {
   "cell_type": "code",
   "execution_count": 2,
   "metadata": {},
   "outputs": [],
   "source": [
    "# Read the data\n",
    "stock_d = pd.read_sas('../downloads/stock_d.sas7bdat')\n",
    "stock_d.columns = map(str.upper, stock_d.columns)\n",
    "stock_d[\"DATE\"] = pd.to_datetime(stock_d[\"DATE\"])\n",
    "stock_d[\"MONTHID\"] = (stock_d['DATE'].dt.year - 2000) * 12 + stock_d['DATE'].dt.month\n",
    "stock_d.drop(stock_d[stock_d['RET'].isnull()].index, inplace=True)\n",
    "\n",
    "# Read ff_factors\n",
    "ff_factors = pd.read_sas('../downloads/ff_factors_d.sas7bdat')\n",
    "ff_factors.columns = map(str.upper, ff_factors.columns)\n",
    "ff_factors[\"DATE\"] = pd.to_datetime(ff_factors[\"DATE\"])\n",
    "\n",
    "# Merge the two datasets\n",
    "q2_data = pd.merge(stock_d, ff_factors, on=\"DATE\", how = \"left\")"
   ]
  },
  {
   "cell_type": "code",
   "execution_count": 3,
   "metadata": {},
   "outputs": [],
   "source": [
    "q2_data['XRET'] = q2_data['RET'] - q2_data['RF']\n",
    "q2_data['RESIDUAL'] = np.nan\n",
    "q2_data['IVOL'] = np.nan\n",
    "\n",
    "q2_data.set_index(['DATE'], inplace=True)\n",
    "\n",
    "# Calculate the IVOL\n",
    "resid = q2_data.groupby(['PERMNO', 'MONTHID']).apply(lambda x: sm.OLS(x['XRET'], sm.add_constant(x[['MKTRF', 'SMB', 'HML']])).fit(params_only=True).resid).reset_index()\n",
    "\n",
    "q2_data.reset_index(inplace=True)"
   ]
  },
  {
   "cell_type": "code",
   "execution_count": 4,
   "metadata": {},
   "outputs": [],
   "source": [
    "resid.columns = ['PERMNO', 'MONTHID', 'DATE', 'RESIDUAL']\n",
    "resid.set_index(['PERMNO', 'MONTHID', 'DATE'], inplace=True)\n",
    "resid['RESIDUAL'] = resid['RESIDUAL'].astype(float)\n",
    "\n",
    "resid_filter = resid.groupby(['PERMNO', 'MONTHID'])['RESIDUAL'].filter(lambda x: len(x) >= 10).reset_index()\n",
    "resid.reset_index(inplace=True)\n",
    "\n",
    "IVOL = resid_filter.groupby(['PERMNO', 'MONTHID'])['RESIDUAL'].apply(lambda x: x.std()).reset_index()\n",
    "IVOL.columns = ['PERMNO', 'MONTHID', 'IVOL']"
   ]
  },
  {
   "cell_type": "code",
   "execution_count": 5,
   "metadata": {},
   "outputs": [
    {
     "data": {
      "text/html": [
       "<div>\n",
       "<style scoped>\n",
       "    .dataframe tbody tr th:only-of-type {\n",
       "        vertical-align: middle;\n",
       "    }\n",
       "\n",
       "    .dataframe tbody tr th {\n",
       "        vertical-align: top;\n",
       "    }\n",
       "\n",
       "    .dataframe thead th {\n",
       "        text-align: right;\n",
       "    }\n",
       "</style>\n",
       "<table border=\"1\" class=\"dataframe\">\n",
       "  <thead>\n",
       "    <tr style=\"text-align: right;\">\n",
       "      <th></th>\n",
       "      <th>IVOL</th>\n",
       "    </tr>\n",
       "  </thead>\n",
       "  <tbody>\n",
       "    <tr>\n",
       "      <th>count</th>\n",
       "      <td>20775.000000</td>\n",
       "    </tr>\n",
       "    <tr>\n",
       "      <th>mean</th>\n",
       "      <td>0.016686</td>\n",
       "    </tr>\n",
       "    <tr>\n",
       "      <th>std</th>\n",
       "      <td>0.012257</td>\n",
       "    </tr>\n",
       "    <tr>\n",
       "      <th>min</th>\n",
       "      <td>0.001331</td>\n",
       "    </tr>\n",
       "    <tr>\n",
       "      <th>1%</th>\n",
       "      <td>0.004099</td>\n",
       "    </tr>\n",
       "    <tr>\n",
       "      <th>5%</th>\n",
       "      <td>0.005521</td>\n",
       "    </tr>\n",
       "    <tr>\n",
       "      <th>25%</th>\n",
       "      <td>0.008871</td>\n",
       "    </tr>\n",
       "    <tr>\n",
       "      <th>50%</th>\n",
       "      <td>0.013138</td>\n",
       "    </tr>\n",
       "    <tr>\n",
       "      <th>75%</th>\n",
       "      <td>0.020306</td>\n",
       "    </tr>\n",
       "    <tr>\n",
       "      <th>95%</th>\n",
       "      <td>0.040426</td>\n",
       "    </tr>\n",
       "    <tr>\n",
       "      <th>99%</th>\n",
       "      <td>0.062578</td>\n",
       "    </tr>\n",
       "    <tr>\n",
       "      <th>max</th>\n",
       "      <td>0.216573</td>\n",
       "    </tr>\n",
       "  </tbody>\n",
       "</table>\n",
       "</div>"
      ],
      "text/plain": [
       "               IVOL\n",
       "count  20775.000000\n",
       "mean       0.016686\n",
       "std        0.012257\n",
       "min        0.001331\n",
       "1%         0.004099\n",
       "5%         0.005521\n",
       "25%        0.008871\n",
       "50%        0.013138\n",
       "75%        0.020306\n",
       "95%        0.040426\n",
       "99%        0.062578\n",
       "max        0.216573"
      ]
     },
     "metadata": {},
     "output_type": "display_data"
    }
   ],
   "source": [
    "display(IVOL[['IVOL']].describe(percentiles=[0.01, 0.05, 0.25, 0.5, 0.75, 0.95, 0.99]))"
   ]
  },
  {
   "cell_type": "code",
   "execution_count": 6,
   "metadata": {},
   "outputs": [],
   "source": [
    "with pd.ExcelWriter(\"../DA3_data.xlsx\", mode='a', engine=\"openpyxl\", if_sheet_exists='replace') as writer:\n",
    "    IVOL.to_excel(writer, sheet_name=\"Q2\", index=False)"
   ]
  }
 ],
 "metadata": {
  "kernelspec": {
   "display_name": "Python 3",
   "language": "python",
   "name": "python3"
  },
  "language_info": {
   "codemirror_mode": {
    "name": "ipython",
    "version": 3
   },
   "file_extension": ".py",
   "mimetype": "text/x-python",
   "name": "python",
   "nbconvert_exporter": "python",
   "pygments_lexer": "ipython3",
   "version": "3.10.9"
  },
  "orig_nbformat": 4,
  "vscode": {
   "interpreter": {
    "hash": "e7370f93d1d0cde622a1f8e1c04877d8463912d04d973331ad4851f04de6915a"
   }
  }
 },
 "nbformat": 4,
 "nbformat_minor": 2
}
