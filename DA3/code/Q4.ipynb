{
 "cells": [
  {
   "attachments": {},
   "cell_type": "markdown",
   "metadata": {},
   "source": [
    "### CFM 301 Data Assignment 3 Q4\n",
    "#### Jeongseop Yi (j22yi)"
   ]
  },
  {
   "cell_type": "code",
   "execution_count": 1,
   "metadata": {},
   "outputs": [],
   "source": [
    "import pandas as pd\n",
    "import numpy as np\n",
    "import matplotlib.pyplot as plt\n",
    "import seaborn as sns\n",
    "import statsmodels.api as sm\n",
    "from statsmodels.formula.api import ols"
   ]
  },
  {
   "cell_type": "code",
   "execution_count": 2,
   "metadata": {},
   "outputs": [],
   "source": [
    "# Load the data\n",
    "q1_data = pd.read_excel(\"../DA3_data.xlsx\", sheet_name=\"Q1\")\n",
    "q2_data = pd.read_excel(\"../DA3_data.xlsx\", sheet_name=\"Q2\")\n",
    "q3_data = pd.read_excel(\"../DA3_data.xlsx\", sheet_name=\"Q3\")"
   ]
  },
  {
   "cell_type": "code",
   "execution_count": 3,
   "metadata": {},
   "outputs": [],
   "source": [
    "q1_data['BETA'+'_W'] = q1_data.groupby('MONTHID')['BETA'].transform(lambda x: x.clip(lower=x.mean() - 3*x.std(), upper=x.mean() + 3*x.std()))\n",
    "q2_data['IVOL'+'_W'] = q2_data.groupby('MONTHID')['IVOL'].transform(lambda x: x.clip(lower=x.mean() - 3*x.std(), upper=x.mean() + 3*x.std()))\n",
    "q3_data['MOM'+'_W'] = q3_data.groupby('MONTHID')['MOM'].transform(lambda x: x.clip(lower=x.mean() - 3*x.std(), upper=x.mean() + 3*x.std()))\n",
    "\n",
    "# save each winsorized data by monthid and permno to q4_data\n",
    "q4_data = pd.merge(q1_data, q2_data, on=['MONTHID', 'PERMNO'], how=\"outer\")\n",
    "q4_data = pd.merge(q4_data, q3_data, on=['MONTHID', 'PERMNO'], how=\"outer\")"
   ]
  },
  {
   "cell_type": "code",
   "execution_count": 4,
   "metadata": {},
   "outputs": [
    {
     "data": {
      "text/html": [
       "<div>\n",
       "<style scoped>\n",
       "    .dataframe tbody tr th:only-of-type {\n",
       "        vertical-align: middle;\n",
       "    }\n",
       "\n",
       "    .dataframe tbody tr th {\n",
       "        vertical-align: top;\n",
       "    }\n",
       "\n",
       "    .dataframe thead th {\n",
       "        text-align: right;\n",
       "    }\n",
       "</style>\n",
       "<table border=\"1\" class=\"dataframe\">\n",
       "  <thead>\n",
       "    <tr style=\"text-align: right;\">\n",
       "      <th></th>\n",
       "      <th>BETA_W</th>\n",
       "      <th>IVOL_W</th>\n",
       "      <th>MOM_W</th>\n",
       "    </tr>\n",
       "  </thead>\n",
       "  <tbody>\n",
       "    <tr>\n",
       "      <th>count</th>\n",
       "      <td>20308.000000</td>\n",
       "      <td>20775.000000</td>\n",
       "      <td>20381.000000</td>\n",
       "    </tr>\n",
       "    <tr>\n",
       "      <th>mean</th>\n",
       "      <td>1.254927</td>\n",
       "      <td>0.016489</td>\n",
       "      <td>0.263819</td>\n",
       "    </tr>\n",
       "    <tr>\n",
       "      <th>std</th>\n",
       "      <td>0.780144</td>\n",
       "      <td>0.011419</td>\n",
       "      <td>0.569629</td>\n",
       "    </tr>\n",
       "    <tr>\n",
       "      <th>min</th>\n",
       "      <td>-2.016456</td>\n",
       "      <td>0.001331</td>\n",
       "      <td>-0.972296</td>\n",
       "    </tr>\n",
       "    <tr>\n",
       "      <th>1%</th>\n",
       "      <td>-0.116178</td>\n",
       "      <td>0.004099</td>\n",
       "      <td>-0.648930</td>\n",
       "    </tr>\n",
       "    <tr>\n",
       "      <th>5%</th>\n",
       "      <td>0.267463</td>\n",
       "      <td>0.005521</td>\n",
       "      <td>-0.385049</td>\n",
       "    </tr>\n",
       "    <tr>\n",
       "      <th>25%</th>\n",
       "      <td>0.773262</td>\n",
       "      <td>0.008871</td>\n",
       "      <td>-0.026301</td>\n",
       "    </tr>\n",
       "    <tr>\n",
       "      <th>50%</th>\n",
       "      <td>1.111727</td>\n",
       "      <td>0.013138</td>\n",
       "      <td>0.179303</td>\n",
       "    </tr>\n",
       "    <tr>\n",
       "      <th>75%</th>\n",
       "      <td>1.561689</td>\n",
       "      <td>0.020306</td>\n",
       "      <td>0.424267</td>\n",
       "    </tr>\n",
       "    <tr>\n",
       "      <th>95%</th>\n",
       "      <td>2.778597</td>\n",
       "      <td>0.039294</td>\n",
       "      <td>1.175456</td>\n",
       "    </tr>\n",
       "    <tr>\n",
       "      <th>99%</th>\n",
       "      <td>3.840429</td>\n",
       "      <td>0.058917</td>\n",
       "      <td>2.332290</td>\n",
       "    </tr>\n",
       "    <tr>\n",
       "      <th>max</th>\n",
       "      <td>5.799785</td>\n",
       "      <td>0.113657</td>\n",
       "      <td>10.179186</td>\n",
       "    </tr>\n",
       "  </tbody>\n",
       "</table>\n",
       "</div>"
      ],
      "text/plain": [
       "             BETA_W        IVOL_W         MOM_W\n",
       "count  20308.000000  20775.000000  20381.000000\n",
       "mean       1.254927      0.016489      0.263819\n",
       "std        0.780144      0.011419      0.569629\n",
       "min       -2.016456      0.001331     -0.972296\n",
       "1%        -0.116178      0.004099     -0.648930\n",
       "5%         0.267463      0.005521     -0.385049\n",
       "25%        0.773262      0.008871     -0.026301\n",
       "50%        1.111727      0.013138      0.179303\n",
       "75%        1.561689      0.020306      0.424267\n",
       "95%        2.778597      0.039294      1.175456\n",
       "99%        3.840429      0.058917      2.332290\n",
       "max        5.799785      0.113657     10.179186"
      ]
     },
     "metadata": {},
     "output_type": "display_data"
    }
   ],
   "source": [
    "display(q4_data[['BETA_W', 'IVOL_W', 'MOM_W']].describe(percentiles=[0.01, 0.05, 0.25, 0.5, 0.75, 0.95, 0.99]))"
   ]
  },
  {
   "cell_type": "code",
   "execution_count": 6,
   "metadata": {},
   "outputs": [],
   "source": [
    "with pd.ExcelWriter(\"../DA3_data.xlsx\", mode='a', engine=\"openpyxl\", if_sheet_exists='replace') as writer:\n",
    "    q4_data[['PERMNO', 'MONTHID', 'BETA', 'BETA_W', 'IVOL', 'IVOL_W', 'MOM', 'MOM_W']].to_excel(writer, sheet_name=\"Q4\", index=False)"
   ]
  }
 ],
 "metadata": {
  "kernelspec": {
   "display_name": "Python 3",
   "language": "python",
   "name": "python3"
  },
  "language_info": {
   "codemirror_mode": {
    "name": "ipython",
    "version": 3
   },
   "file_extension": ".py",
   "mimetype": "text/x-python",
   "name": "python",
   "nbconvert_exporter": "python",
   "pygments_lexer": "ipython3",
   "version": "3.10.9"
  },
  "orig_nbformat": 4,
  "vscode": {
   "interpreter": {
    "hash": "e7370f93d1d0cde622a1f8e1c04877d8463912d04d973331ad4851f04de6915a"
   }
  }
 },
 "nbformat": 4,
 "nbformat_minor": 2
}
