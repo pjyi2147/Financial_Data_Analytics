{
 "cells": [
  {
   "cell_type": "code",
   "execution_count": 1,
   "metadata": {},
   "outputs": [],
   "source": [
    "import pandas as pd\n",
    "import numpy as np\n",
    "import seaborn as sns\n",
    "from sklearn import linear_model\n",
    "import statsmodels.api as sm\n",
    "from statsmodels.regression.rolling import RollingOLS"
   ]
  },
  {
   "cell_type": "code",
   "execution_count": 2,
   "metadata": {},
   "outputs": [],
   "source": [
    "# Read the data\n",
    "stock_monthly = pd.read_sas('../downloads/stock_m.sas7bdat')\n",
    "stock_monthly.columns = map(str.upper, stock_monthly.columns)\n",
    "stock_monthly[\"DATE\"] = pd.to_datetime(stock_monthly[\"DATE\"])\n",
    "stock_monthly[\"MONTHID\"] = (stock_monthly['DATE'].dt.year - 2000) * 12 + stock_monthly['DATE'].dt.month\n",
    "\n",
    "# Read ff_factors\n",
    "ff_factors = pd.read_sas('../downloads/ff_factors_m.sas7bdat')\n",
    "ff_factors.columns = map(str.upper, ff_factors.columns)\n",
    "ff_factors[\"DATEFF\"] = pd.to_datetime(ff_factors[\"DATEFF\"])\n",
    "ff_factors[\"MONTHID\"] = (ff_factors['DATEFF'].dt.year - 2000) * 12 + ff_factors['DATEFF'].dt.month\n",
    "\n",
    "# Merge the two datasets\n",
    "q1_data = pd.merge(stock_monthly, ff_factors, on = \"MONTHID\", how = \"left\")\n",
    "# q1_data.drop(q1_data[q1_data['RET'].isnull()].index, inplace = True)\n",
    "q1_data['XRET'] = q1_data['RET'] - q1_data['RF']"
   ]
  },
  {
   "cell_type": "code",
   "execution_count": 7,
   "metadata": {},
   "outputs": [
    {
     "data": {
      "text/html": [
       "<div>\n",
       "<style scoped>\n",
       "    .dataframe tbody tr th:only-of-type {\n",
       "        vertical-align: middle;\n",
       "    }\n",
       "\n",
       "    .dataframe tbody tr th {\n",
       "        vertical-align: top;\n",
       "    }\n",
       "\n",
       "    .dataframe thead th {\n",
       "        text-align: right;\n",
       "    }\n",
       "</style>\n",
       "<table border=\"1\" class=\"dataframe\">\n",
       "  <thead>\n",
       "    <tr style=\"text-align: right;\">\n",
       "      <th></th>\n",
       "      <th>BETA</th>\n",
       "    </tr>\n",
       "  </thead>\n",
       "  <tbody>\n",
       "    <tr>\n",
       "      <th>count</th>\n",
       "      <td>20308.000000</td>\n",
       "    </tr>\n",
       "    <tr>\n",
       "      <th>mean</th>\n",
       "      <td>1.257083</td>\n",
       "    </tr>\n",
       "    <tr>\n",
       "      <th>std</th>\n",
       "      <td>0.795173</td>\n",
       "    </tr>\n",
       "    <tr>\n",
       "      <th>min</th>\n",
       "      <td>-2.228347</td>\n",
       "    </tr>\n",
       "    <tr>\n",
       "      <th>1%</th>\n",
       "      <td>-0.116178</td>\n",
       "    </tr>\n",
       "    <tr>\n",
       "      <th>5%</th>\n",
       "      <td>0.267463</td>\n",
       "    </tr>\n",
       "    <tr>\n",
       "      <th>25%</th>\n",
       "      <td>0.773262</td>\n",
       "    </tr>\n",
       "    <tr>\n",
       "      <th>50%</th>\n",
       "      <td>1.111727</td>\n",
       "    </tr>\n",
       "    <tr>\n",
       "      <th>75%</th>\n",
       "      <td>1.561689</td>\n",
       "    </tr>\n",
       "    <tr>\n",
       "      <th>95%</th>\n",
       "      <td>2.812702</td>\n",
       "    </tr>\n",
       "    <tr>\n",
       "      <th>99%</th>\n",
       "      <td>3.890250</td>\n",
       "    </tr>\n",
       "    <tr>\n",
       "      <th>max</th>\n",
       "      <td>7.395251</td>\n",
       "    </tr>\n",
       "  </tbody>\n",
       "</table>\n",
       "</div>"
      ],
      "text/plain": [
       "               BETA\n",
       "count  20308.000000\n",
       "mean       1.257083\n",
       "std        0.795173\n",
       "min       -2.228347\n",
       "1%        -0.116178\n",
       "5%         0.267463\n",
       "25%        0.773262\n",
       "50%        1.111727\n",
       "75%        1.561689\n",
       "95%        2.812702\n",
       "99%        3.890250\n",
       "max        7.395251"
      ]
     },
     "metadata": {},
     "output_type": "display_data"
    }
   ],
   "source": [
    "# Calculate the beta\n",
    "q1_data['BETA'] = np.nan\n",
    "for permno in q1_data['PERMNO'].unique():\n",
    "    for t in range(1, q1_data['MONTHID'].max() + 1):\n",
    "        sub_data = q1_data[(q1_data['PERMNO'] == permno) & (q1_data['MONTHID'] <= t) & (q1_data['MONTHID'] >= t - 35)]\n",
    "        if sub_data['XRET'].count() >= 12:\n",
    "            x = sub_data[['MKTRF']]\n",
    "            x = sm.add_constant(x)\n",
    "            y = sub_data['XRET']\n",
    "            model = sm.OLS(y, x, missing='drop').fit()\n",
    "            q1_data.loc[(q1_data['PERMNO'] == permno) & (q1_data['MONTHID'] == t), 'BETA'] = model.params['MKTRF']\n",
    "display(pd.DataFrame(q1_data['BETA'].describe(percentiles=[0.01, 0.05, 0.25, 0.5, 0.75, 0.95, 0.99])))"
   ]
  }
 ],
 "metadata": {
  "kernelspec": {
   "display_name": "Python 3",
   "language": "python",
   "name": "python3"
  },
  "language_info": {
   "codemirror_mode": {
    "name": "ipython",
    "version": 3
   },
   "file_extension": ".py",
   "mimetype": "text/x-python",
   "name": "python",
   "nbconvert_exporter": "python",
   "pygments_lexer": "ipython3",
   "version": "3.10.9"
  },
  "orig_nbformat": 4,
  "vscode": {
   "interpreter": {
    "hash": "e7370f93d1d0cde622a1f8e1c04877d8463912d04d973331ad4851f04de6915a"
   }
  }
 },
 "nbformat": 4,
 "nbformat_minor": 2
}
