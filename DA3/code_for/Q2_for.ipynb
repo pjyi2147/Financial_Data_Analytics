{
 "cells": [
  {
   "cell_type": "code",
   "execution_count": null,
   "metadata": {},
   "outputs": [],
   "source": [
    "import pandas as pd\n",
    "import numpy as np\n",
    "import matplotlib.pyplot as plt\n",
    "import seaborn as sns\n",
    "import statsmodels.api as sm\n",
    "from statsmodels.formula.api import ols\n",
    "from statsmodels.regression.rolling import RollingOLS"
   ]
  },
  {
   "cell_type": "code",
   "execution_count": null,
   "metadata": {},
   "outputs": [],
   "source": [
    "# Read the data\n",
    "stock_d = pd.read_sas('../downloads/stock_d.sas7bdat')\n",
    "stock_d.columns = map(str.upper, stock_d.columns)\n",
    "stock_d[\"DATE\"] = pd.to_datetime(stock_d[\"DATE\"])\n",
    "stock_d[\"MONTHID\"] = (stock_d['DATE'].dt.year - 2000) * 12 + stock_d['DATE'].dt.month\n",
    "stock_d.drop(stock_d[stock_d['RET'].isnull()].index, inplace=True)\n",
    "\n",
    "# Read ff_factors\n",
    "ff_factors = pd.read_sas('../downloads/ff_factors_d.sas7bdat')\n",
    "ff_factors.columns = map(str.upper, ff_factors.columns)\n",
    "ff_factors[\"DATE\"] = pd.to_datetime(ff_factors[\"DATE\"])\n",
    "\n",
    "# Merge the two datasets\n",
    "q2_data = pd.merge(stock_d, ff_factors, on=\"DATE\", how = \"left\")"
   ]
  },
  {
   "cell_type": "code",
   "execution_count": null,
   "metadata": {},
   "outputs": [],
   "source": [
    "for permno in q2_data['PERMNO'].unique():\n",
    "    for t in range(1, q2_data['MONTHID'].max() + 1):\n",
    "        sub_data = q2_data[(q2_data['PERMNO'] == permno) & (q2_data['MONTHID'] == t)]\n",
    "        if len(sub_data) >= 10:\n",
    "            x = sub_data[['MKTRF', 'SMB', 'HML']]\n",
    "            x = sm.add_constant(x)\n",
    "            y = sub_data['XRET']\n",
    "            model = sm.OLS(y, x).fit(params_only=True)\n",
    "            q2_data.loc[(q2_data['PERMNO'] == permno) & (q2_data['MONTHID'] == t), 'RESIDUAL'] = model.resid\n",
    "\n",
    "# is this slow?\n",
    "q2_ivol = {\"MONTHID\" : [], \"PERMNO\": [], \"IVOL\" : []}\n",
    "for permno in q2_data['PERMNO'].unique():\n",
    "    for t in range(1, q2_data['MONTHID'].max() + 1):\n",
    "        sub_data = q2_data[(q2_data['PERMNO'] == permno) & (q2_data['MONTHID'] == t)]\n",
    "        q2_ivol[\"MONTHID\"].append(t)\n",
    "        q2_ivol[\"PERMNO\"].append(permno)\n",
    "        if len(sub_data) >= 10:\n",
    "            q2_ivol[\"IVOL\"].append(np.std(sub_data['RESIDUAL']))\n",
    "        else:\n",
    "            q2_ivol[\"IVOL\"].append(np.nan)\n",
    "\n",
    "q2_ivol = pd.DataFrame(q2_ivol)"
   ]
  },
  {
   "cell_type": "code",
   "execution_count": null,
   "metadata": {},
   "outputs": [],
   "source": []
  }
 ],
 "metadata": {
  "kernelspec": {
   "display_name": "Python 3",
   "language": "python",
   "name": "python3"
  },
  "language_info": {
   "name": "python",
   "version": "3.10.9"
  },
  "orig_nbformat": 4,
  "vscode": {
   "interpreter": {
    "hash": "e7370f93d1d0cde622a1f8e1c04877d8463912d04d973331ad4851f04de6915a"
   }
  }
 },
 "nbformat": 4,
 "nbformat_minor": 2
}
