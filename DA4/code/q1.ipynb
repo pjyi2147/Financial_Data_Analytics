{
 "cells": [
  {
   "attachments": {},
   "cell_type": "markdown",
   "metadata": {},
   "source": [
    "## CFM 301 DA4\n",
    "### Q1\n",
    "#### Jeongseop Yi (Patrick), j22yi"
   ]
  },
  {
   "cell_type": "code",
   "execution_count": 14,
   "metadata": {},
   "outputs": [],
   "source": [
    "import numpy as np\n",
    "import matplotlib.pyplot as plt\n",
    "import pandas as pd\n",
    "import seaborn as sns\n",
    "import statsmodels.api as sm"
   ]
  },
  {
   "cell_type": "code",
   "execution_count": 15,
   "metadata": {},
   "outputs": [],
   "source": [
    "q1_df = pd.read_sas('ca.sas7bdat')\n",
    "\n",
    "q1_df['date'] = pd.to_datetime(q1_df['date'])\n",
    "q1_df['year'] = q1_df['date'].dt.year\n",
    "q1_df['month'] = q1_df['date'].dt.month\n",
    "q1_df['yyyymm'] = q1_df['year'].astype(str) + q1_df['month'].astype(str).str.zfill(2)\n",
    "\n",
    "q1_df = q1_df[(q1_df['yyyymm'] >= '200001') & (q1_df['yyyymm'] <= '202111')]"
   ]
  },
  {
   "attachments": {},
   "cell_type": "markdown",
   "metadata": {},
   "source": [
    "#### a)"
   ]
  },
  {
   "cell_type": "code",
   "execution_count": 16,
   "metadata": {},
   "outputs": [],
   "source": [
    "def get_monthly_returns_quintile(df, col):\n",
    "    df[col + '_q'] = df.groupby('yyyymm')[col].transform(lambda x: pd.qcut(x, 5, labels=False))\n",
    "    df[col + '_q_ret'] = df.groupby(['yyyymm', col + '_q'])['ret_t1'].transform('mean')\n",
    "    # create data frame with monthly returns for each quintile\n",
    "    df_q_ret = pd.DataFrame(columns=['1', '2', '3', '4', '5'])\n",
    "    for i in range(1, 6):\n",
    "        df_q_ret[str(i)] = df[df[col + '_q'] == i - 1].groupby('yyyymm')[col + '_q_ret'].mean()\n",
    "    df_q_ret = df_q_ret.reset_index()\n",
    "    with pd.ExcelWriter(\"../DA4_data.xlsx\", mode='a', engine=\"openpyxl\", if_sheet_exists='replace') as writer:\n",
    "        df_q_ret.to_excel(writer, sheet_name='q1_' + col + '_ret', index=False)\n",
    "    return df, df_q_ret"
   ]
  },
  {
   "cell_type": "code",
   "execution_count": 17,
   "metadata": {},
   "outputs": [],
   "source": [
    "# factors\n",
    "factors = ['lnSize_winsorized', 'bk2mkt_winsorized', 'ep1_winsorized', 'beta_winsorized', 'ivol_winsorized', 'mom_winsorized']\n",
    "factors_quinlst = []\n",
    "q1_df.set_index('yyyymm', inplace=True)\n",
    "for factor in factors:\n",
    "    q1_df, factor_ret = get_monthly_returns_quintile(q1_df, factor)\n",
    "    factors_quinlst.append(factor_ret)\n",
    "q1_df.reset_index(inplace=True)"
   ]
  },
  {
   "attachments": {},
   "cell_type": "markdown",
   "metadata": {},
   "source": [
    "b)"
   ]
  },
  {
   "cell_type": "code",
   "execution_count": 18,
   "metadata": {},
   "outputs": [],
   "source": [
    "# lnSize q1 - q5\n",
    "factors_quinlst[0]['port'] = factors_quinlst[0]['1'] - factors_quinlst[0]['5']\n",
    "\n",
    "# bk2mkt q5 - q1\n",
    "factors_quinlst[1]['port'] = factors_quinlst[1]['5'] - factors_quinlst[1]['1']\n",
    "\n",
    "# ep1 q1 - q5\n",
    "factors_quinlst[2]['port'] = factors_quinlst[2]['1'] - factors_quinlst[2]['5']\n",
    "\n",
    "# beta q1 - q5\n",
    "factors_quinlst[3]['port'] = factors_quinlst[3]['1'] - factors_quinlst[3]['5']\n",
    "\n",
    "# ivol q1 - q5\n",
    "factors_quinlst[4]['port'] = factors_quinlst[4]['1'] - factors_quinlst[4]['5']\n",
    "\n",
    "# mom q5 - q1\n",
    "factors_quinlst[5]['port'] = factors_quinlst[5]['5'] - factors_quinlst[5]['1']"
   ]
  },
  {
   "cell_type": "code",
   "execution_count": 19,
   "metadata": {},
   "outputs": [],
   "source": [
    "factors_q5_q1 = pd.DataFrame(columns=['yyyymm'].append(factors))\n",
    "factors_q5_q1['yyyymm'] = factors_quinlst[0]['yyyymm']\n",
    "for i in range(len(factors)):\n",
    "    factors_q5_q1[factors[i]] = factors_quinlst[i]['port']"
   ]
  },
  {
   "cell_type": "code",
   "execution_count": 20,
   "metadata": {},
   "outputs": [],
   "source": [
    "ff4_df = pd.read_sas('ff4.sas7bdat')\n",
    "ff4_df.columns = map(str.lower, ff4_df.columns)\n",
    "ff4_df['date'] = pd.to_datetime(ff4_df['dateff'])\n",
    "ff4_df['year'] = ff4_df['date'].dt.year\n",
    "ff4_df['month'] = ff4_df['date'].dt.month\n",
    "ff4_df['yyyymm'] = ff4_df['year'].astype(str) + ff4_df['month'].astype(str).str.zfill(2)\n",
    "ff4_df = ff4_df[(ff4_df['yyyymm'] >= '200001') & (ff4_df['yyyymm'] <= '202111')]\n",
    "\n",
    "factors_q5_q1 = pd.merge(factors_q5_q1, ff4_df, on='yyyymm', how='left')"
   ]
  },
  {
   "cell_type": "code",
   "execution_count": 21,
   "metadata": {},
   "outputs": [
    {
     "data": {
      "text/html": [
       "<div>\n",
       "<style scoped>\n",
       "    .dataframe tbody tr th:only-of-type {\n",
       "        vertical-align: middle;\n",
       "    }\n",
       "\n",
       "    .dataframe tbody tr th {\n",
       "        vertical-align: top;\n",
       "    }\n",
       "\n",
       "    .dataframe thead th {\n",
       "        text-align: right;\n",
       "    }\n",
       "</style>\n",
       "<table border=\"1\" class=\"dataframe\">\n",
       "  <thead>\n",
       "    <tr style=\"text-align: right;\">\n",
       "      <th>index</th>\n",
       "      <th>overall return</th>\n",
       "      <th>excess return</th>\n",
       "      <th>CAPM alpha</th>\n",
       "      <th>CAPM t-stat</th>\n",
       "      <th>FF4 alpha</th>\n",
       "      <th>FF4 t-stat</th>\n",
       "      <th>Sharpe</th>\n",
       "    </tr>\n",
       "  </thead>\n",
       "  <tbody>\n",
       "    <tr>\n",
       "      <th>lnSize_winsorized</th>\n",
       "      <td>0.0266</td>\n",
       "      <td>0.0194</td>\n",
       "      <td>0.0249</td>\n",
       "      <td>5.91</td>\n",
       "      <td>0.0263</td>\n",
       "      <td>6.29</td>\n",
       "      <td>1.3000</td>\n",
       "    </tr>\n",
       "    <tr>\n",
       "      <th>bk2mkt_winsorized</th>\n",
       "      <td>-0.0019</td>\n",
       "      <td>-0.0091</td>\n",
       "      <td>-0.0030</td>\n",
       "      <td>-0.78</td>\n",
       "      <td>-0.0033</td>\n",
       "      <td>-0.85</td>\n",
       "      <td>-0.1775</td>\n",
       "    </tr>\n",
       "    <tr>\n",
       "      <th>ep1_winsorized</th>\n",
       "      <td>0.0079</td>\n",
       "      <td>0.0007</td>\n",
       "      <td>0.0052</td>\n",
       "      <td>1.11</td>\n",
       "      <td>0.0068</td>\n",
       "      <td>1.50</td>\n",
       "      <td>0.3055</td>\n",
       "    </tr>\n",
       "    <tr>\n",
       "      <th>beta_winsorized</th>\n",
       "      <td>-0.0044</td>\n",
       "      <td>-0.0116</td>\n",
       "      <td>-0.0052</td>\n",
       "      <td>-0.98</td>\n",
       "      <td>-0.0055</td>\n",
       "      <td>-1.03</td>\n",
       "      <td>-0.2285</td>\n",
       "    </tr>\n",
       "    <tr>\n",
       "      <th>ivol_winsorized</th>\n",
       "      <td>-0.0156</td>\n",
       "      <td>-0.0228</td>\n",
       "      <td>-0.0163</td>\n",
       "      <td>-3.05</td>\n",
       "      <td>-0.0169</td>\n",
       "      <td>-3.14</td>\n",
       "      <td>-0.6809</td>\n",
       "    </tr>\n",
       "    <tr>\n",
       "      <th>mom_winsorized</th>\n",
       "      <td>0.0041</td>\n",
       "      <td>-0.0031</td>\n",
       "      <td>0.0028</td>\n",
       "      <td>0.54</td>\n",
       "      <td>0.0037</td>\n",
       "      <td>0.71</td>\n",
       "      <td>0.1208</td>\n",
       "    </tr>\n",
       "  </tbody>\n",
       "</table>\n",
       "</div>"
      ],
      "text/plain": [
       "index              overall return  excess return  CAPM alpha  CAPM t-stat  \\\n",
       "lnSize_winsorized          0.0266         0.0194      0.0249         5.91   \n",
       "bk2mkt_winsorized         -0.0019        -0.0091     -0.0030        -0.78   \n",
       "ep1_winsorized             0.0079         0.0007      0.0052         1.11   \n",
       "beta_winsorized           -0.0044        -0.0116     -0.0052        -0.98   \n",
       "ivol_winsorized           -0.0156        -0.0228     -0.0163        -3.05   \n",
       "mom_winsorized             0.0041        -0.0031      0.0028         0.54   \n",
       "\n",
       "index              FF4 alpha  FF4 t-stat  Sharpe  \n",
       "lnSize_winsorized     0.0263        6.29  1.3000  \n",
       "bk2mkt_winsorized    -0.0033       -0.85 -0.1775  \n",
       "ep1_winsorized        0.0068        1.50  0.3055  \n",
       "beta_winsorized      -0.0055       -1.03 -0.2285  \n",
       "ivol_winsorized      -0.0169       -3.14 -0.6809  \n",
       "mom_winsorized        0.0037        0.71  0.1208  "
      ]
     },
     "metadata": {},
     "output_type": "display_data"
    }
   ],
   "source": [
    "summary_df = pd.DataFrame(columns=['index'].append(factors))\n",
    "summary_df['index'] = ['overall return', 'excess return',\n",
    "                       'CAPM alpha', 'CAPM t-stat', 'FF4 alpha', 'FF4 t-stat', 'Sharpe']\n",
    "summary_df.set_index('index', inplace=True)\n",
    "for factor in factors:\n",
    "    mkt = sm.add_constant(factors_q5_q1['mktrf'])\n",
    "    model = sm.OLS(factors_q5_q1[factor] - factors_q5_q1['rf'], mkt).fit()\n",
    "    model_alpha = model.params[0]\n",
    "    model_tstat = model.tvalues[0]\n",
    "\n",
    "    ff4 = sm.add_constant(factors_q5_q1[['mktrf', 'smb', 'hml', 'umd']])\n",
    "    model_ff4 = sm.OLS(factors_q5_q1[factor] - factors_q5_q1['rf'], ff4).fit()\n",
    "    model_ff4_alpha = model_ff4.params[0]\n",
    "    model_ff4_tstat = model_ff4.tvalues[0]\n",
    "\n",
    "    summary_df[factor] = [factors_q5_q1[factor].mean(),\n",
    "                          (factors_q5_q1[factor] - factors_q5_q1['rf'] -\n",
    "                           factors_q5_q1['mktrf']).mean(),\n",
    "                          model_alpha,\n",
    "                          model_tstat.round(2),\n",
    "                          model_ff4_alpha,\n",
    "                          model_ff4_tstat.round(2),\n",
    "                          (factors_q5_q1[factor] - factors_q5_q1['rf']).mean() / (factors_q5_q1[factor] - factors_q5_q1['rf']).std() * np.sqrt(12)]\n",
    "\n",
    "display(summary_df.round(4).T)\n"
   ]
  },
  {
   "cell_type": "code",
   "execution_count": 22,
   "metadata": {},
   "outputs": [],
   "source": [
    "with pd.ExcelWriter(\"../DA4_data.xlsx\", mode='a', engine=\"openpyxl\", if_sheet_exists='replace') as writer:\n",
    "    q1_df.to_excel(writer, sheet_name=\"q1\", index=False)"
   ]
  }
 ],
 "metadata": {
  "kernelspec": {
   "display_name": "Python 3",
   "language": "python",
   "name": "python3"
  },
  "language_info": {
   "codemirror_mode": {
    "name": "ipython",
    "version": 3
   },
   "file_extension": ".py",
   "mimetype": "text/x-python",
   "name": "python",
   "nbconvert_exporter": "python",
   "pygments_lexer": "ipython3",
   "version": "3.10.10"
  },
  "orig_nbformat": 4
 },
 "nbformat": 4,
 "nbformat_minor": 2
}
