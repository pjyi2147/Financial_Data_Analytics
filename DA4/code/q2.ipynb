{
 "cells": [
  {
   "attachments": {},
   "cell_type": "markdown",
   "metadata": {},
   "source": [
    "## CFM 301 DA4\n",
    "### Q2\n",
    "#### Jeongseop Yi (Patrick), j22yi"
   ]
  },
  {
   "cell_type": "code",
   "execution_count": 1,
   "metadata": {},
   "outputs": [],
   "source": [
    "import numpy as np\n",
    "import matplotlib.pyplot as plt\n",
    "import pandas as pd\n",
    "import seaborn as sns\n",
    "import statsmodels.api as sm"
   ]
  },
  {
   "cell_type": "code",
   "execution_count": 2,
   "metadata": {},
   "outputs": [],
   "source": [
    "q2_df = pd.read_sas('ca.sas7bdat')\n",
    "\n",
    "q2_df['date'] = pd.to_datetime(q2_df['date'])\n",
    "q2_df['year'] = q2_df['date'].dt.year\n",
    "q2_df['month'] = q2_df['date'].dt.month\n",
    "q2_df['yyyymm'] = q2_df['year'].astype(str) + q2_df['month'].astype(str).str.zfill(2)\n",
    "\n",
    "q2_df = q2_df[(q2_df['yyyymm'] >= '200001') & (q2_df['yyyymm'] <= '202111')]\n",
    "\n",
    "ff4_df = pd.read_sas('ff4.sas7bdat')\n",
    "ff4_df.columns = map(str.lower, ff4_df.columns)\n",
    "ff4_df['dateff'] = pd.to_datetime(ff4_df['dateff'])\n",
    "ff4_df['year'] = ff4_df['dateff'].dt.year\n",
    "ff4_df['month'] = ff4_df['dateff'].dt.month\n",
    "ff4_df['yyyymm'] = ff4_df['year'].astype(str) + ff4_df['month'].astype(str).str.zfill(2)\n",
    "ff4_df = ff4_df[(ff4_df['yyyymm'] >= '200001') & (ff4_df['yyyymm'] <= '202111')]"
   ]
  },
  {
   "cell_type": "code",
   "execution_count": 3,
   "metadata": {},
   "outputs": [],
   "source": [
    "def get_monthly_returns_quintile(df, col):\n",
    "    df[col + '_q'] = df.groupby('yyyymm')[col].transform(lambda x: pd.qcut(x, 5, labels=False))\n",
    "    df[col + '_q_ret'] = df.groupby(['yyyymm', col + '_q'])['ret_t1'].transform('mean')\n",
    "    df[col + '_q_avg'] = df.groupby(['yyyymm', col + '_q'])[col].transform('mean')\n",
    "    # create data frame with monthly returns for each quintile\n",
    "    df_q_ret = pd.DataFrame(columns=['1', '2', '3', '4', '5'])\n",
    "    for i in range(1, 6):\n",
    "        df_q_ret[str(i)] = df[df[col + '_q'] == i - 1].groupby('yyyymm')[col + '_q_ret'].mean()\n",
    "        df_q_ret[str(i) + '_beta'] = df[df[col + '_q'] == i - 1].groupby('yyyymm')[col].mean()\n",
    "    df_q_ret.reset_index(inplace=True)\n",
    "    return df, df_q_ret"
   ]
  },
  {
   "cell_type": "code",
   "execution_count": 4,
   "metadata": {},
   "outputs": [],
   "source": [
    "factors = ['beta_winsorized']\n",
    "factors_quinlst = []\n",
    "for factor in factors:\n",
    "    q2_df, factor_ret = get_monthly_returns_quintile(q2_df, factor)\n",
    "    factor_ret = pd.merge(factor_ret, ff4_df, on='yyyymm', how='left')\n",
    "    factors_quinlst.append(factor_ret)\n"
   ]
  },
  {
   "cell_type": "code",
   "execution_count": 5,
   "metadata": {},
   "outputs": [],
   "source": [
    "for df in factors_quinlst:\n",
    "    df['port'] = (df['1'] - df['rf']) / df['1_beta'] - (df['5'] - df['rf']) / df['5_beta']"
   ]
  },
  {
   "cell_type": "code",
   "execution_count": 6,
   "metadata": {},
   "outputs": [],
   "source": [
    "factors_q5_q1 = pd.DataFrame(columns=['yyyymm'].append(factors))\n",
    "factors_q5_q1['yyyymm'] = factors_quinlst[0]['yyyymm']\n",
    "for i in range(len(factors)):\n",
    "    factors_q5_q1[factors[i]] = factors_quinlst[i]['port']\n",
    "\n",
    "factors_q5_q1 = pd.merge(factors_q5_q1, ff4_df, on='yyyymm', how='left')"
   ]
  },
  {
   "cell_type": "code",
   "execution_count": 7,
   "metadata": {},
   "outputs": [
    {
     "data": {
      "text/html": [
       "<div>\n",
       "<style scoped>\n",
       "    .dataframe tbody tr th:only-of-type {\n",
       "        vertical-align: middle;\n",
       "    }\n",
       "\n",
       "    .dataframe tbody tr th {\n",
       "        vertical-align: top;\n",
       "    }\n",
       "\n",
       "    .dataframe thead th {\n",
       "        text-align: right;\n",
       "    }\n",
       "</style>\n",
       "<table border=\"1\" class=\"dataframe\">\n",
       "  <thead>\n",
       "    <tr style=\"text-align: right;\">\n",
       "      <th>index</th>\n",
       "      <th>overall return</th>\n",
       "      <th>excess return</th>\n",
       "      <th>CAPM alpha</th>\n",
       "      <th>CAPM t-stat</th>\n",
       "      <th>FF4 alpha</th>\n",
       "      <th>FF4 t-stat</th>\n",
       "      <th>Sharpe</th>\n",
       "    </tr>\n",
       "  </thead>\n",
       "  <tbody>\n",
       "    <tr>\n",
       "      <th>beta_winsorized</th>\n",
       "      <td>0.026965</td>\n",
       "      <td>0.019756</td>\n",
       "      <td>0.024629</td>\n",
       "      <td>3.548065</td>\n",
       "      <td>0.025634</td>\n",
       "      <td>3.664855</td>\n",
       "      <td>0.797607</td>\n",
       "    </tr>\n",
       "  </tbody>\n",
       "</table>\n",
       "</div>"
      ],
      "text/plain": [
       "index            overall return  excess return  CAPM alpha  CAPM t-stat  \\\n",
       "beta_winsorized        0.026965       0.019756    0.024629     3.548065   \n",
       "\n",
       "index            FF4 alpha  FF4 t-stat    Sharpe  \n",
       "beta_winsorized   0.025634    3.664855  0.797607  "
      ]
     },
     "metadata": {},
     "output_type": "display_data"
    }
   ],
   "source": [
    "summary_df = pd.DataFrame(columns=['index'].append(factors))\n",
    "summary_df['index'] = ['overall return', 'excess return',\n",
    "                       'CAPM alpha', 'CAPM t-stat', 'FF4 alpha', 'FF4 t-stat', 'Sharpe']\n",
    "summary_df.set_index('index', inplace=True)\n",
    "for factor in factors:\n",
    "    mkt = sm.add_constant(factors_q5_q1['mktrf'])\n",
    "    model = sm.OLS(factors_q5_q1[factor] - factors_q5_q1['rf'], mkt).fit()\n",
    "    model_alpha = model.params[0]\n",
    "    model_tstat = model.tvalues[0]\n",
    "\n",
    "    ff4 = sm.add_constant(factors_q5_q1[['mktrf', 'smb', 'hml', 'umd']])\n",
    "    model_ff4 = sm.OLS(factors_q5_q1[factor] - factors_q5_q1['rf'], ff4).fit()\n",
    "    model_ff4_alpha = model_ff4.params[0]\n",
    "    model_ff4_tstat = model_ff4.tvalues[0]\n",
    "\n",
    "    summary_df[factor] = [factors_q5_q1[factor].mean(),\n",
    "                          (factors_q5_q1[factor] - factors_q5_q1['rf'] -\n",
    "                           factors_q5_q1['mktrf']).mean(),\n",
    "                          model_alpha,\n",
    "                          model_tstat,\n",
    "                          model_ff4_alpha,\n",
    "                          model_ff4_tstat,\n",
    "                          (factors_q5_q1[factor] - factors_q5_q1['rf']).mean() / (factors_q5_q1[factor] - factors_q5_q1['rf']).std() * np.sqrt(12)]\n",
    "\n",
    "display(summary_df.T)"
   ]
  },
  {
   "cell_type": "code",
   "execution_count": 8,
   "metadata": {},
   "outputs": [],
   "source": [
    "with pd.ExcelWriter(\"../DA4_data.xlsx\", mode='a', engine=\"openpyxl\", if_sheet_exists='replace') as writer:\n",
    "    q2_df.to_excel(writer, sheet_name=\"q2\", index=False)"
   ]
  }
 ],
 "metadata": {
  "kernelspec": {
   "display_name": "Python 3",
   "language": "python",
   "name": "python3"
  },
  "language_info": {
   "codemirror_mode": {
    "name": "ipython",
    "version": 3
   },
   "file_extension": ".py",
   "mimetype": "text/x-python",
   "name": "python",
   "nbconvert_exporter": "python",
   "pygments_lexer": "ipython3",
   "version": "3.10.10"
  },
  "orig_nbformat": 4
 },
 "nbformat": 4,
 "nbformat_minor": 2
}
