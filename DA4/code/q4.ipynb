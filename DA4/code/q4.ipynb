{
 "cells": [
  {
   "attachments": {},
   "cell_type": "markdown",
   "metadata": {},
   "source": [
    "## CFM 301 DA4\n",
    "### Q4\n",
    "#### Jeongseop Yi (Patrick), j22yi"
   ]
  },
  {
   "cell_type": "code",
   "execution_count": 3,
   "metadata": {},
   "outputs": [],
   "source": [
    "import numpy as np\n",
    "import pandas as pd\n",
    "import seaborn as sns\n",
    "import matplotlib.pyplot as plt\n",
    "import statsmodels.api as sm"
   ]
  },
  {
   "attachments": {},
   "cell_type": "markdown",
   "metadata": {},
   "source": [
    "#### a)"
   ]
  },
  {
   "cell_type": "code",
   "execution_count": 4,
   "metadata": {},
   "outputs": [],
   "source": [
    "q4_df = pd.read_sas('ca.sas7bdat')\n",
    "\n",
    "q4_df['date'] = pd.to_datetime(q4_df['date'])\n",
    "q4_df['year'] = q4_df['date'].dt.year\n",
    "q4_df['month'] = q4_df['date'].dt.month\n",
    "q4_df['yyyymm'] = q4_df['year'].astype(str) + q4_df['month'].astype(str).str.zfill(2)\n",
    "\n",
    "q4_df = q4_df[(q4_df['yyyymm'] >= '200001') & (q4_df['yyyymm'] <= '202111')]\n",
    "\n",
    "ff4_df = pd.read_sas('ff4.sas7bdat')\n",
    "ff4_df.columns = map(str.lower, ff4_df.columns)\n",
    "ff4_df['dateff'] = pd.to_datetime(ff4_df['dateff'])\n",
    "ff4_df['year'] = ff4_df['dateff'].dt.year\n",
    "ff4_df['month'] = ff4_df['dateff'].dt.month\n",
    "ff4_df['yyyymm'] = ff4_df['year'].astype(str) + ff4_df['month'].astype(str).str.zfill(2)\n",
    "ff4_df = ff4_df[(ff4_df['yyyymm'] >= '200001') & (ff4_df['yyyymm'] <= '202111')]"
   ]
  },
  {
   "cell_type": "code",
   "execution_count": 5,
   "metadata": {},
   "outputs": [],
   "source": [
    "def get_monthly_returns_quintile(df, col):\n",
    "    df[col + '_q'] = df.groupby('yyyymm')[col].transform(lambda x: pd.qcut(x, 5, labels=False))\n",
    "    df[col + '_q_ret'] = df.groupby(['yyyymm', col + '_q'])['ret_t1'].transform('mean')\n",
    "    df[col + '_q_avg'] = df.groupby(['yyyymm', col + '_q'])[col].transform('mean')\n",
    "    # create data frame with monthly returns for each quintile\n",
    "    df_q_ret = pd.DataFrame(columns=['1', '2', '3', '4', '5'])\n",
    "    for i in range(1, 6):\n",
    "        df_q_ret[str(i)] = df[df[col + '_q'] == i - 1].groupby('yyyymm')[col + '_q_ret'].mean()\n",
    "        df_q_ret[str(i) + '_beta'] = df[df[col + '_q'] == i - 1].groupby('yyyymm')[col].mean()\n",
    "    df_q_ret.reset_index(inplace=True)\n",
    "    return df, df_q_ret"
   ]
  },
  {
   "cell_type": "code",
   "execution_count": 6,
   "metadata": {},
   "outputs": [],
   "source": [
    "factors = ['beta_winsorized', 'ivol_winsorized']\n",
    "factors_quinlst = []\n",
    "for factor in factors:\n",
    "    q4_df, factor_ret = get_monthly_returns_quintile(q4_df, factor)\n",
    "    factor_ret = pd.merge(factor_ret, ff4_df, on='yyyymm', how='left')\n",
    "    factors_quinlst.append(factor_ret)"
   ]
  },
  {
   "cell_type": "code",
   "execution_count": 7,
   "metadata": {},
   "outputs": [],
   "source": [
    "BAB_IVOL = pd.DataFrame()\n",
    "BAB_IVOL['yyyymm'] = factors_quinlst[0]['yyyymm']\n",
    "\n",
    "BAB_IVOL['BAB'] = (factors_quinlst[0]['1'] - factors_quinlst[0]['rf']) / factors_quinlst[0]['1_beta'] - (factors_quinlst[0]['5'] - factors_quinlst[0]['rf']) / factors_quinlst[0]['5_beta']\n",
    "\n",
    "BAB_IVOL['IVOL'] = (factors_quinlst[1]['1'] - factors_quinlst[1]['5'])"
   ]
  },
  {
   "cell_type": "code",
   "execution_count": 8,
   "metadata": {},
   "outputs": [],
   "source": [
    "BAB_IVOL['AVG'] = (BAB_IVOL['BAB'] + BAB_IVOL['IVOL']) / 2\n",
    "BAB_IVOL = BAB_IVOL.merge(ff4_df, on='yyyymm', how='left')"
   ]
  },
  {
   "cell_type": "code",
   "execution_count": 9,
   "metadata": {},
   "outputs": [
    {
     "data": {
      "text/html": [
       "<div>\n",
       "<style scoped>\n",
       "    .dataframe tbody tr th:only-of-type {\n",
       "        vertical-align: middle;\n",
       "    }\n",
       "\n",
       "    .dataframe tbody tr th {\n",
       "        vertical-align: top;\n",
       "    }\n",
       "\n",
       "    .dataframe thead th {\n",
       "        text-align: right;\n",
       "    }\n",
       "</style>\n",
       "<table border=\"1\" class=\"dataframe\">\n",
       "  <thead>\n",
       "    <tr style=\"text-align: right;\">\n",
       "      <th>index</th>\n",
       "      <th>overall return</th>\n",
       "      <th>excess return</th>\n",
       "      <th>CAPM alpha</th>\n",
       "      <th>CAPM t-stat</th>\n",
       "      <th>FF4 alpha</th>\n",
       "      <th>FF4 t-stat</th>\n",
       "      <th>Sharpe</th>\n",
       "    </tr>\n",
       "  </thead>\n",
       "  <tbody>\n",
       "    <tr>\n",
       "      <th>AVG</th>\n",
       "      <td>0.0057</td>\n",
       "      <td>-0.0015</td>\n",
       "      <td>0.0042</td>\n",
       "      <td>0.99</td>\n",
       "      <td>0.0044</td>\n",
       "      <td>1.02</td>\n",
       "      <td>0.2269</td>\n",
       "    </tr>\n",
       "  </tbody>\n",
       "</table>\n",
       "</div>"
      ],
      "text/plain": [
       "index  overall return  excess return  CAPM alpha  CAPM t-stat  FF4 alpha  \\\n",
       "AVG            0.0057        -0.0015      0.0042         0.99     0.0044   \n",
       "\n",
       "index  FF4 t-stat  Sharpe  \n",
       "AVG          1.02  0.2269  "
      ]
     },
     "metadata": {},
     "output_type": "display_data"
    }
   ],
   "source": [
    "factors = ['AVG']\n",
    "summary_df = pd.DataFrame(columns=['index'].append(factors))\n",
    "summary_df['index'] = ['overall return', 'excess return',\n",
    "                       'CAPM alpha', 'CAPM t-stat', 'FF4 alpha', 'FF4 t-stat', 'Sharpe']\n",
    "summary_df.set_index('index', inplace=True)\n",
    "for factor in factors:\n",
    "    mkt = sm.add_constant(BAB_IVOL['mktrf'])\n",
    "    model = sm.OLS(BAB_IVOL[factor] - BAB_IVOL['rf'], mkt).fit()\n",
    "    model_alpha = model.params[0]\n",
    "    model_tstat = model.tvalues[0]\n",
    "\n",
    "    ff4 = sm.add_constant(BAB_IVOL[['mktrf', 'smb', 'hml', 'umd']])\n",
    "    model_ff4 = sm.OLS(BAB_IVOL[factor] - BAB_IVOL['rf'], ff4).fit()\n",
    "    model_ff4_alpha = model_ff4.params[0]\n",
    "    model_ff4_tstat = model_ff4.tvalues[0]\n",
    "\n",
    "    summary_df[factor] = [BAB_IVOL[factor].mean(),\n",
    "                          (BAB_IVOL[factor] - BAB_IVOL['rf'] -\n",
    "                           BAB_IVOL['mktrf']).mean(),\n",
    "                          model_alpha,\n",
    "                          model_tstat.round(2),\n",
    "                          model_ff4_alpha,\n",
    "                          model_ff4_tstat.round(2),\n",
    "                          (BAB_IVOL[factor] - BAB_IVOL['rf']).mean() / (BAB_IVOL[factor] - BAB_IVOL['rf']).std() * np.sqrt(12)]\n",
    "\n",
    "display(summary_df.round(4).T)"
   ]
  },
  {
   "attachments": {},
   "cell_type": "markdown",
   "metadata": {},
   "source": [
    "#### b)"
   ]
  },
  {
   "cell_type": "code",
   "execution_count": 10,
   "metadata": {},
   "outputs": [
    {
     "data": {
      "text/html": [
       "<div>\n",
       "<style scoped>\n",
       "    .dataframe tbody tr th:only-of-type {\n",
       "        vertical-align: middle;\n",
       "    }\n",
       "\n",
       "    .dataframe tbody tr th {\n",
       "        vertical-align: top;\n",
       "    }\n",
       "\n",
       "    .dataframe thead th {\n",
       "        text-align: right;\n",
       "    }\n",
       "</style>\n",
       "<table border=\"1\" class=\"dataframe\">\n",
       "  <thead>\n",
       "    <tr style=\"text-align: right;\">\n",
       "      <th>index</th>\n",
       "      <th>overall return</th>\n",
       "      <th>excess return</th>\n",
       "      <th>CAPM alpha</th>\n",
       "      <th>CAPM t-stat</th>\n",
       "      <th>FF3 alpha</th>\n",
       "      <th>FF3 t-stat</th>\n",
       "      <th>Sharpe</th>\n",
       "    </tr>\n",
       "  </thead>\n",
       "  <tbody>\n",
       "    <tr>\n",
       "      <th>AVG_fee</th>\n",
       "      <td>0.0052</td>\n",
       "      <td>-0.002</td>\n",
       "      <td>0.0037</td>\n",
       "      <td>0.87</td>\n",
       "      <td>0.0038</td>\n",
       "      <td>0.9</td>\n",
       "      <td>0.2014</td>\n",
       "    </tr>\n",
       "  </tbody>\n",
       "</table>\n",
       "</div>"
      ],
      "text/plain": [
       "index    overall return  excess return  CAPM alpha  CAPM t-stat  FF3 alpha  \\\n",
       "AVG_fee          0.0052         -0.002      0.0037         0.87     0.0038   \n",
       "\n",
       "index    FF3 t-stat  Sharpe  \n",
       "AVG_fee         0.9  0.2014  "
      ]
     },
     "metadata": {},
     "output_type": "display_data"
    }
   ],
   "source": [
    "BAB_IVOL['AVG_fee'] = BAB_IVOL['AVG'] - 0.0005\n",
    "\n",
    "factors = ['AVG_fee']\n",
    "summary_df = pd.DataFrame(columns=['index'].append(factors))\n",
    "summary_df['index'] = ['overall return', 'excess return',\n",
    "                       'CAPM alpha', 'CAPM t-stat', 'FF3 alpha', 'FF3 t-stat', 'Sharpe']\n",
    "summary_df.set_index('index', inplace=True)\n",
    "for factor in factors:\n",
    "    mkt = sm.add_constant(BAB_IVOL['mktrf'])\n",
    "    model = sm.OLS(BAB_IVOL[factor] - BAB_IVOL['rf'], mkt).fit()\n",
    "    model_alpha = model.params[0]\n",
    "    model_tstat = model.tvalues[0]\n",
    "\n",
    "    ff4 = sm.add_constant(BAB_IVOL[['mktrf', 'smb', 'hml']])\n",
    "    model_ff4 = sm.OLS(BAB_IVOL[factor] - BAB_IVOL['rf'], ff4).fit()\n",
    "    model_ff4_alpha = model_ff4.params[0]\n",
    "    model_ff4_tstat = model_ff4.tvalues[0]\n",
    "\n",
    "    summary_df[factor] = [BAB_IVOL[factor].mean(),\n",
    "                          (BAB_IVOL[factor] - BAB_IVOL['rf'] -\n",
    "                           BAB_IVOL['mktrf']).mean(),\n",
    "                          model_alpha,\n",
    "                          model_tstat.round(2),\n",
    "                          model_ff4_alpha,\n",
    "                          model_ff4_tstat.round(2),\n",
    "                          (BAB_IVOL[factor] - BAB_IVOL['rf']).mean() / (BAB_IVOL[factor] - BAB_IVOL['rf']).std() * np.sqrt(12)]\n",
    "\n",
    "display(summary_df.round(4).T)"
   ]
  },
  {
   "cell_type": "code",
   "execution_count": 11,
   "metadata": {},
   "outputs": [],
   "source": [
    "with pd.ExcelWriter(\"../DA4_data.xlsx\", mode='a', engine=\"openpyxl\", if_sheet_exists='replace') as writer:\n",
    "    q4_df.to_excel(writer, sheet_name=\"q4\", index=False)"
   ]
  }
 ],
 "metadata": {
  "kernelspec": {
   "display_name": "Python 3",
   "language": "python",
   "name": "python3"
  },
  "language_info": {
   "codemirror_mode": {
    "name": "ipython",
    "version": 3
   },
   "file_extension": ".py",
   "mimetype": "text/x-python",
   "name": "python",
   "nbconvert_exporter": "python",
   "pygments_lexer": "ipython3",
   "version": "3.10.10"
  },
  "orig_nbformat": 4
 },
 "nbformat": 4,
 "nbformat_minor": 2
}
