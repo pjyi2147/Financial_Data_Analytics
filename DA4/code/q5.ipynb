{
 "cells": [
  {
   "attachments": {},
   "cell_type": "markdown",
   "metadata": {},
   "source": [
    "## CFM 301 DA4\n",
    "### Q5\n",
    "#### Jeongseop Yi (Patrick), j22yi"
   ]
  },
  {
   "cell_type": "code",
   "execution_count": 3,
   "metadata": {},
   "outputs": [],
   "source": [
    "import numpy as np\n",
    "import pandas as pd\n",
    "import seaborn as sns\n",
    "import matplotlib.pyplot as plt\n",
    "import statsmodels.api as sm\n",
    "import scipy.stats as stats"
   ]
  },
  {
   "cell_type": "code",
   "execution_count": 4,
   "metadata": {},
   "outputs": [],
   "source": [
    "q5_df = pd.read_sas('ca.sas7bdat')\n",
    "\n",
    "q5_df['date'] = pd.to_datetime(q5_df['date'])\n",
    "q5_df['year'] = q5_df['date'].dt.year\n",
    "q5_df['month'] = q5_df['date'].dt.month\n",
    "q5_df['yyyymm'] = q5_df['year'].astype(str) + q5_df['month'].astype(str).str.zfill(2)\n",
    "\n",
    "q5_df = q5_df[(q5_df['yyyymm'] >= '200001') & (q5_df['yyyymm'] <= '202111')]\n",
    "\n",
    "ff4_df = pd.read_sas('ff4.sas7bdat')\n",
    "ff4_df.columns = map(str.lower, ff4_df.columns)\n",
    "ff4_df['dateff'] = pd.to_datetime(ff4_df['dateff'])\n",
    "ff4_df['year'] = ff4_df['dateff'].dt.year\n",
    "ff4_df['month'] = ff4_df['dateff'].dt.month\n",
    "ff4_df['yyyymm'] = ff4_df['year'].astype(str) + ff4_df['month'].astype(str).str.zfill(2)\n",
    "ff4_df = ff4_df[(ff4_df['yyyymm'] >= '200001') & (ff4_df['yyyymm'] <= '202111')]"
   ]
  },
  {
   "cell_type": "code",
   "execution_count": 5,
   "metadata": {},
   "outputs": [
    {
     "data": {
      "text/html": [
       "<div>\n",
       "<style scoped>\n",
       "    .dataframe tbody tr th:only-of-type {\n",
       "        vertical-align: middle;\n",
       "    }\n",
       "\n",
       "    .dataframe tbody tr th {\n",
       "        vertical-align: top;\n",
       "    }\n",
       "\n",
       "    .dataframe thead th {\n",
       "        text-align: right;\n",
       "    }\n",
       "</style>\n",
       "<table border=\"1\" class=\"dataframe\">\n",
       "  <thead>\n",
       "    <tr style=\"text-align: right;\">\n",
       "      <th></th>\n",
       "      <th>count</th>\n",
       "      <th>mean</th>\n",
       "      <th>std</th>\n",
       "      <th>min</th>\n",
       "      <th>1%</th>\n",
       "      <th>5%</th>\n",
       "      <th>25%</th>\n",
       "      <th>50%</th>\n",
       "      <th>75%</th>\n",
       "      <th>95%</th>\n",
       "      <th>99%</th>\n",
       "      <th>max</th>\n",
       "      <th>t-stat</th>\n",
       "    </tr>\n",
       "  </thead>\n",
       "  <tbody>\n",
       "    <tr>\n",
       "      <th>ivol</th>\n",
       "      <td>263.0</td>\n",
       "      <td>0.4145</td>\n",
       "      <td>2.7934</td>\n",
       "      <td>-9.3001</td>\n",
       "      <td>-5.5936</td>\n",
       "      <td>-4.1283</td>\n",
       "      <td>-1.0434</td>\n",
       "      <td>0.4017</td>\n",
       "      <td>1.728</td>\n",
       "      <td>4.8139</td>\n",
       "      <td>8.2413</td>\n",
       "      <td>14.0774</td>\n",
       "      <td>2.41</td>\n",
       "    </tr>\n",
       "  </tbody>\n",
       "</table>\n",
       "</div>"
      ],
      "text/plain": [
       "      count    mean     std     min      1%      5%     25%     50%    75%  \\\n",
       "ivol  263.0  0.4145  2.7934 -9.3001 -5.5936 -4.1283 -1.0434  0.4017  1.728   \n",
       "\n",
       "         95%     99%      max  t-stat  \n",
       "ivol  4.8139  8.2413  14.0774    2.41  "
      ]
     },
     "metadata": {},
     "output_type": "display_data"
    }
   ],
   "source": [
    "factors = ['ivol_winsorized', 'beta_winsorized', 'lnSize_winsorized', 'bk2mkt_winsorized']\n",
    "\n",
    "for factor in factors:\n",
    "    q5_df = q5_df[q5_df[factor].notna()]\n",
    "\n",
    "test_df = q5_df.groupby('yyyymm').apply(lambda x: sm.OLS(x['ret_t1'], sm.add_constant(x[factors])).fit().params).reset_index()\n",
    "test_df.columns = ['yyyymm', 'const', 'ivol', 'beta', 'lnSize', 'bk2mkt']\n",
    "(t, p) = stats.ttest_1samp(test_df['ivol'], 0)\n",
    "ivol_df = test_df[['yyyymm', 'ivol']]\n",
    "ivol_df_des = ivol_df.describe(percentiles=[0.01, 0.05, 0.25, 0.5, 0.75, 0.95, 0.99])\n",
    "ivol_df_des.loc['t-stat', :] = t.round(2)\n",
    "display(ivol_df_des.round(4).T)"
   ]
  },
  {
   "cell_type": "code",
   "execution_count": 6,
   "metadata": {},
   "outputs": [],
   "source": [
    "with pd.ExcelWriter(\"../DA4_data.xlsx\", mode='a', engine=\"openpyxl\", if_sheet_exists='replace') as writer:\n",
    "    q5_df.to_excel(writer, sheet_name=\"q5\", index=False)"
   ]
  }
 ],
 "metadata": {
  "kernelspec": {
   "display_name": "Python 3",
   "language": "python",
   "name": "python3"
  },
  "language_info": {
   "codemirror_mode": {
    "name": "ipython",
    "version": 3
   },
   "file_extension": ".py",
   "mimetype": "text/x-python",
   "name": "python",
   "nbconvert_exporter": "python",
   "pygments_lexer": "ipython3",
   "version": "3.10.10"
  },
  "orig_nbformat": 4
 },
 "nbformat": 4,
 "nbformat_minor": 2
}
